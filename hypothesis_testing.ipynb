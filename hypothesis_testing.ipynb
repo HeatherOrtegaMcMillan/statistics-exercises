{
 "cells": [
  {
   "cell_type": "markdown",
   "metadata": {},
   "source": [
    "# Hypothesis Testing Exercises"
   ]
  },
  {
   "cell_type": "markdown",
   "metadata": {},
   "source": [
    "For each of the following questions, formulate a null and alternative hypothesis (be as specific as you can be), then give an example of what a true positive, true negative, type I and type II errors would look like. Note that some of the questions are intentionally phrased in a vague way. It is your job to reword these as more precise questions that could be tested.\n",
    "\n",
    "- Has the network latency gone up since we switched internet service providers?\n",
    "- Is the website redesign any good?\n",
    "- Is our television ad driving more sales?"
   ]
  },
  {
   "cell_type": "markdown",
   "metadata": {},
   "source": [
    "#### QUESTIONS TO ANSWER\n",
    "- Do I need to reword the question?\n",
    "- What are the variables?\n",
    "- What type are the variables?\n",
    "- Formulate null hypothesis\n",
    "- Formulate alt hypothesis\n",
    "- Example of True Positive\n",
    "- Example of True Negative\n",
    "- Example of Type 1 error (False Positive)\n",
    "- Example of Type 2 error (False Negative)\n",
    "- What type of tests should I run? "
   ]
  },
  {
   "cell_type": "markdown",
   "metadata": {},
   "source": [
    "### Has the network latency gone up since we switched internet service providers?\n",
    "\n",
    "Reworded question: Is network latancy higher with company 2 than compnay 1?\n",
    "\n",
    "Variables: \n",
    "- Internet Service Provider (discrete)\n",
    "- Internet speed (continuous)\n",
    "\n",
    "$H_{0}$ Network Latancy is the same accross both internet service providers\n",
    "\n",
    "$H_{a}$ The network latancy for company 2 is higher than company 1. \n",
    "\n",
    "True Positive = The data shows there's a difference in network latancy since we switched internet providers and statistical testing proves this isn't by chance \n",
    "\n",
    "True Negative = The data shows that there is NO difference (null hypothesis is true) in network latancy since we switched internet providers, statistical testing proves this  \n",
    "\n",
    "Type 1 Error = our data suggests that there is a difference in speed between the two companies, but statistical testing says this isn't real\n",
    "\n",
    "Type 2 Error = our data suggests that there is NO difference in speed between the two companies (null hypothesis seems true) but the stastistical testing says we might have messed up (sample size, or this is highly likely to happen by chance)"
   ]
  },
  {
   "cell_type": "markdown",
   "metadata": {},
   "source": [
    "### Is the website redesign any good?\n",
    "\n",
    "Is the new website more efficent with click counts? (i.e. the amount of clicks it take from website entry to product purchase is lower)\n",
    "\n",
    "Variables:\n",
    "- click count to purchase (discrete) (1, 2, 3, 4, 5, 6)\n",
    "- website (old or new, discrete) \n",
    "\n",
    "$H_{0}$ There is no difference in click count between the new website and the old website\n",
    "\n",
    "$H_{1}$ The click count is lower on the new website than the old website.\n",
    "\n",
    "$H_{2}$ The click count is higher on the new website than the old website.\n",
    "\n",
    "True Positive = The data shows there's a difference in click count between the new and the old website and statistical testing proves this isn't by chance\n",
    "\n",
    "False Positive = The data shows there's NO difference in click count between the new and the old website and statistical testing proves this isn't by chance\n",
    "\n",
    "Type 1 error = Our data shows that there is a difference in the click counts between the websites but the statistical testing says it's not significant enough.\n",
    "\n",
    "Type 2 error = Our data shows there is NO difference in the click counts between websites but statistcal testing shows we might not have a big enough sample size or it might too likely for it to be random"
   ]
  },
  {
   "cell_type": "markdown",
   "metadata": {},
   "source": [
    "### Is our television ad driving more sales?\n",
    "\n",
    "Is the television ad campagin having a positive impact on sales?\n",
    "\n",
    "Variables: \n",
    "- time (continuous)\n",
    "- sales numbers (i.e. weekly revenue, monthly revenue) (continous)\n",
    "\n",
    "$H_{0}$ The television ad has no impact on sales\n",
    "\n",
    "$H_{1}$ The television ad has a positive impact on sales (i.e. revenue goes up)\n",
    "\n",
    "$H_{2}$ The television ad has a negative impact on sales (i.e. revenue goes down)\n",
    "\n",
    "True Positive = The data suggests that the tv ad has an impact on sales and the statistcal testing proves that's fine \n",
    "\n",
    "True Negative = The data suggests that the tv ad has no impact on sales and that's actually true.\n",
    "\n",
    "Type 1 Error (False Positive) = The data suggests that the tv ad has some sort of impact on sales, but the statistical testing says otherwise.\n",
    "\n",
    "Type 2 Error (False Negative) = The data suggests that the tv ad has NO impact on sales but the statistical testing suggests there might be an issue with the sample size or the chances."
   ]
  },
  {
   "cell_type": "markdown",
   "metadata": {},
   "source": [
    "## Telco Churn Questions"
   ]
  },
  {
   "cell_type": "markdown",
   "metadata": {},
   "source": [
    "- Do monthly charges have an impact on churn\n",
    "- Does being a senior have an impact on tenure\n",
    "- Does having a different service (internet, phone, both...)\n",
    "- Is there a relationship between tenure and monthly cost?\n",
    "- Does having dependents have an effect on churn"
   ]
  },
  {
   "cell_type": "markdown",
   "metadata": {},
   "source": []
  }
 ],
 "metadata": {
  "kernelspec": {
   "display_name": "Python 3",
   "language": "python",
   "name": "python3"
  },
  "language_info": {
   "codemirror_mode": {
    "name": "ipython",
    "version": 3
   },
   "file_extension": ".py",
   "mimetype": "text/x-python",
   "name": "python",
   "nbconvert_exporter": "python",
   "pygments_lexer": "ipython3",
   "version": "3.8.5"
  }
 },
 "nbformat": 4,
 "nbformat_minor": 4
}
