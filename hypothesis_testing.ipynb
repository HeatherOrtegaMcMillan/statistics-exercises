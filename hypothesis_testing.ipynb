{
 "cells": [
  {
   "cell_type": "markdown",
   "metadata": {},
   "source": [
    "# Hypothesis Testing Exercises"
   ]
  },
  {
   "cell_type": "markdown",
   "metadata": {},
   "source": [
    "For each of the following questions, formulate a null and alternative hypothesis (be as specific as you can be), then give an example of what a true positive, true negative, type I and type II errors would look like. Note that some of the questions are intentionally phrased in a vague way. It is your job to reword these as more precise questions that could be tested.\n",
    "\n",
    "- Has the network latency gone up since we switched internet service providers?\n",
    "- Is the website redesign any good?\n",
    "- Is our television ad driving more sales?"
   ]
  },
  {
   "cell_type": "markdown",
   "metadata": {},
   "source": [
    "#### QUESTIONS TO ANSWER\n",
    "- Do I need to reword the question?\n",
    "- What are the variables?\n",
    "- What type are the variables?\n",
    "- Formulate null hypothesis\n",
    "- Formulate alt hypothesis\n",
    "- Example of True Positive\n",
    "- Example of True Negative\n",
    "- Example of Type 1 error (False Positive)\n",
    "- Example of Type 2 error (False Negative)\n",
    "- What type of tests should I run? "
   ]
  },
  {
   "cell_type": "markdown",
   "metadata": {},
   "source": [
    "### Has the network latency gone up since we switched internet service providers?\n",
    "\n",
    "Reworded question: Is network latancy higher with company 2 than compnay 1?\n",
    "\n",
    "Variables: \n",
    "- Internet Service Provider (discrete)\n",
    "- Internet speed (continuous)\n",
    "\n",
    "$H_{0}$ Network Latancy is the same accross both internet service providers\n",
    "\n",
    "$H_{a}$ The network latancy for company 2 is higher than company 1. \n",
    "\n",
    "True Positive = The data shows there's a difference in network latancy since we switched internet providers and statistical testing proves this isn't by chance \n",
    "\n",
    "True Negative = The data shows that there is NO difference (null hypothesis is true) in network latancy since we switched internet providers, statistical testing proves this  \n",
    "\n",
    "Type 1 Error = our data suggests that there is a difference in speed between the two companies, but statistical testing says this isn't real\n",
    "\n",
    "Type 2 Error = our data suggests that there is NO difference in speed between the two companies (null hypothesis seems true) but the stastistical testing says we might have messed up (sample size, or this is highly likely to happen by chance)"
   ]
  },
  {
   "cell_type": "markdown",
   "metadata": {},
   "source": [
    "### Is the website redesign any good?\n",
    "\n",
    "Is the new website more efficent with click counts? (i.e. the amount of clicks it take from website entry to product purchase is lower)\n",
    "\n",
    "Variables:\n",
    "- click count to purchase (discrete) (1, 2, 3, 4, 5, 6)\n",
    "- website (old or new, discrete) \n",
    "\n",
    "$H_{0}$ There is no difference in click count between the new website and the old website\n",
    "\n",
    "$H_{1}$ The click count is lower on the new website than the old website.\n",
    "\n",
    "$H_{2}$ The click count is higher on the new website than the old website.\n",
    "\n",
    "True Positive = The data shows there's a difference in click count between the new and the old website and statistical testing proves this isn't by chance\n",
    "\n",
    "False Positive = The data shows there's NO difference in click count between the new and the old website and statistical testing proves this isn't by chance\n",
    "\n",
    "Type 1 error = Our data shows that there is a difference in the click counts between the websites but the statistical testing says it's not significant enough.\n",
    "\n",
    "Type 2 error = Our data shows there is NO difference in the click counts between websites but statistcal testing shows we might not have a big enough sample size or it might too likely for it to be random"
   ]
  },
  {
   "cell_type": "markdown",
   "metadata": {},
   "source": [
    "### Is our television ad driving more sales?\n",
    "\n",
    "Is the television ad campagin having a positive impact on sales?\n",
    "\n",
    "Variables: \n",
    "- time (continuous)\n",
    "- sales numbers (i.e. weekly revenue, monthly revenue) (continous)\n",
    "\n",
    "$H_{0}$ The television ad has no impact on sales\n",
    "\n",
    "$H_{1}$ The television ad has a positive impact on sales (i.e. revenue goes up)\n",
    "\n",
    "$H_{2}$ The television ad has a negative impact on sales (i.e. revenue goes down)\n",
    "\n",
    "True Positive = The data suggests that the tv ad has an impact on sales and the statistcal testing proves that's fine \n",
    "\n",
    "True Negative = The data suggests that the tv ad has no impact on sales and that's actually true.\n",
    "\n",
    "Type 1 Error (False Positive) = The data suggests that the tv ad has some sort of impact on sales, but the statistical testing says otherwise.\n",
    "\n",
    "Type 2 Error (False Negative) = The data suggests that the tv ad has NO impact on sales but the statistical testing suggests there might be an issue with the sample size or the chances."
   ]
  },
  {
   "cell_type": "markdown",
   "metadata": {},
   "source": [
    "## Telco Churn Questions"
   ]
  },
  {
   "cell_type": "markdown",
   "metadata": {},
   "source": [
    "- Do monthly charges have an impact on churn\n",
    "- Does being a senior have an impact on tenure\n",
    "- Does having a different service (internet, phone, both...)\n",
    "- Is there a relationship between tenure and monthly cost?\n",
    "- Does having dependents have an effect on churn"
   ]
  },
  {
   "cell_type": "markdown",
   "metadata": {},
   "source": []
  },
  {
   "cell_type": "markdown",
   "metadata": {},
   "source": [
    "# T-Test Exercises\n",
    "1. Ace Realty wants to determine whether the average time it takes to sell homes is different for its two offices. A sample of 40 sales from office #1 revealed a mean of 90 days and a standard deviation of 15 days. A sample of 50 sales from office #2 revealed a mean of 100 days and a standard deviation of 20 days. Use a .05 level of significance.\n",
    "\n",
    "2. Load the mpg dataset and use it to answer the following questions:\n",
    "\n",
    "    Is there a difference in fuel-efficiency in cars from 2008 vs 1999?\n",
    "    Are compact cars more fuel-efficient than the average car?\n",
    "    Do manual cars get better gas mileage than automatic cars?"
   ]
  },
  {
   "cell_type": "code",
   "execution_count": 1,
   "metadata": {},
   "outputs": [],
   "source": [
    "import numpy as np\n",
    "import seaborn as sns\n",
    "import scipy.stats as stats\n",
    "import pandas as pd\n",
    "import matplotlib.pyplot as plt\n",
    "from pydataset import data"
   ]
  },
  {
   "cell_type": "markdown",
   "metadata": {},
   "source": [
    "### Question 1\n",
    "$H_{0}$ : Average sale time for office 1 == average sale time for office 2\n",
    "\n",
    "$H_{a}$ : Average sale time for office 1 != average sale time for office 2"
   ]
  },
  {
   "cell_type": "code",
   "execution_count": 2,
   "metadata": {},
   "outputs": [
    {
     "data": {
      "text/plain": [
       "(-2.6252287036468456, 0.01020985244923939, 0.05)"
      ]
     },
     "execution_count": 2,
     "metadata": {},
     "output_type": "execute_result"
    }
   ],
   "source": [
    "office1_nobs = 40\n",
    "office1_mean = 90\n",
    "office1_std = 15\n",
    "office2_nobs = 50\n",
    "office2_mean = 100\n",
    "office2_std = 20\n",
    "alpha = .05\n",
    "t, p = stats.ttest_ind_from_stats(office1_mean, office1_std, office1_nobs, office2_mean, office2_std, office2_nobs)\n",
    "t, p, alpha"
   ]
  },
  {
   "cell_type": "code",
   "execution_count": 3,
   "metadata": {},
   "outputs": [
    {
     "name": "stdout",
     "output_type": "stream",
     "text": [
      "We can reject the Null hypothesis\n"
     ]
    }
   ],
   "source": [
    "if p < alpha:\n",
    "    print('We can reject the Null hypothesis')\n",
    "if p > alpha:\n",
    "    print('We cannot reject the Null hypothesis')"
   ]
  },
  {
   "cell_type": "markdown",
   "metadata": {},
   "source": [
    "### Question 2\n",
    "    Is there a difference in fuel-efficiency in cars from 2008 vs 1999?\n",
    "    Are compact cars more fuel-efficient than the average car?\n",
    "    Do manual cars get better gas mileage than automatic cars?"
   ]
  },
  {
   "cell_type": "code",
   "execution_count": 4,
   "metadata": {},
   "outputs": [],
   "source": [
    "df = data('mpg')"
   ]
  },
  {
   "cell_type": "code",
   "execution_count": 5,
   "metadata": {},
   "outputs": [
    {
     "name": "stdout",
     "output_type": "stream",
     "text": [
      "<class 'pandas.core.frame.DataFrame'>\n",
      "Int64Index: 234 entries, 1 to 234\n",
      "Data columns (total 11 columns):\n",
      " #   Column        Non-Null Count  Dtype  \n",
      "---  ------        --------------  -----  \n",
      " 0   manufacturer  234 non-null    object \n",
      " 1   model         234 non-null    object \n",
      " 2   displ         234 non-null    float64\n",
      " 3   year          234 non-null    int64  \n",
      " 4   cyl           234 non-null    int64  \n",
      " 5   trans         234 non-null    object \n",
      " 6   drv           234 non-null    object \n",
      " 7   cty           234 non-null    int64  \n",
      " 8   hwy           234 non-null    int64  \n",
      " 9   fl            234 non-null    object \n",
      " 10  class         234 non-null    object \n",
      "dtypes: float64(1), int64(4), object(6)\n",
      "memory usage: 21.9+ KB\n"
     ]
    },
    {
     "data": {
      "text/html": [
       "<div>\n",
       "<style scoped>\n",
       "    .dataframe tbody tr th:only-of-type {\n",
       "        vertical-align: middle;\n",
       "    }\n",
       "\n",
       "    .dataframe tbody tr th {\n",
       "        vertical-align: top;\n",
       "    }\n",
       "\n",
       "    .dataframe thead th {\n",
       "        text-align: right;\n",
       "    }\n",
       "</style>\n",
       "<table border=\"1\" class=\"dataframe\">\n",
       "  <thead>\n",
       "    <tr style=\"text-align: right;\">\n",
       "      <th></th>\n",
       "      <th>manufacturer</th>\n",
       "      <th>model</th>\n",
       "      <th>displ</th>\n",
       "      <th>year</th>\n",
       "      <th>cyl</th>\n",
       "      <th>trans</th>\n",
       "      <th>drv</th>\n",
       "      <th>cty</th>\n",
       "      <th>hwy</th>\n",
       "      <th>fl</th>\n",
       "      <th>class</th>\n",
       "    </tr>\n",
       "  </thead>\n",
       "  <tbody>\n",
       "    <tr>\n",
       "      <th>1</th>\n",
       "      <td>audi</td>\n",
       "      <td>a4</td>\n",
       "      <td>1.8</td>\n",
       "      <td>1999</td>\n",
       "      <td>4</td>\n",
       "      <td>auto(l5)</td>\n",
       "      <td>f</td>\n",
       "      <td>18</td>\n",
       "      <td>29</td>\n",
       "      <td>p</td>\n",
       "      <td>compact</td>\n",
       "    </tr>\n",
       "    <tr>\n",
       "      <th>2</th>\n",
       "      <td>audi</td>\n",
       "      <td>a4</td>\n",
       "      <td>1.8</td>\n",
       "      <td>1999</td>\n",
       "      <td>4</td>\n",
       "      <td>manual(m5)</td>\n",
       "      <td>f</td>\n",
       "      <td>21</td>\n",
       "      <td>29</td>\n",
       "      <td>p</td>\n",
       "      <td>compact</td>\n",
       "    </tr>\n",
       "    <tr>\n",
       "      <th>3</th>\n",
       "      <td>audi</td>\n",
       "      <td>a4</td>\n",
       "      <td>2.0</td>\n",
       "      <td>2008</td>\n",
       "      <td>4</td>\n",
       "      <td>manual(m6)</td>\n",
       "      <td>f</td>\n",
       "      <td>20</td>\n",
       "      <td>31</td>\n",
       "      <td>p</td>\n",
       "      <td>compact</td>\n",
       "    </tr>\n",
       "    <tr>\n",
       "      <th>4</th>\n",
       "      <td>audi</td>\n",
       "      <td>a4</td>\n",
       "      <td>2.0</td>\n",
       "      <td>2008</td>\n",
       "      <td>4</td>\n",
       "      <td>auto(av)</td>\n",
       "      <td>f</td>\n",
       "      <td>21</td>\n",
       "      <td>30</td>\n",
       "      <td>p</td>\n",
       "      <td>compact</td>\n",
       "    </tr>\n",
       "    <tr>\n",
       "      <th>5</th>\n",
       "      <td>audi</td>\n",
       "      <td>a4</td>\n",
       "      <td>2.8</td>\n",
       "      <td>1999</td>\n",
       "      <td>6</td>\n",
       "      <td>auto(l5)</td>\n",
       "      <td>f</td>\n",
       "      <td>16</td>\n",
       "      <td>26</td>\n",
       "      <td>p</td>\n",
       "      <td>compact</td>\n",
       "    </tr>\n",
       "  </tbody>\n",
       "</table>\n",
       "</div>"
      ],
      "text/plain": [
       "  manufacturer model  displ  year  cyl       trans drv  cty  hwy fl    class\n",
       "1         audi    a4    1.8  1999    4    auto(l5)   f   18   29  p  compact\n",
       "2         audi    a4    1.8  1999    4  manual(m5)   f   21   29  p  compact\n",
       "3         audi    a4    2.0  2008    4  manual(m6)   f   20   31  p  compact\n",
       "4         audi    a4    2.0  2008    4    auto(av)   f   21   30  p  compact\n",
       "5         audi    a4    2.8  1999    6    auto(l5)   f   16   26  p  compact"
      ]
     },
     "execution_count": 5,
     "metadata": {},
     "output_type": "execute_result"
    }
   ],
   "source": [
    "df.info()\n",
    "df.head()"
   ]
  },
  {
   "cell_type": "markdown",
   "metadata": {},
   "source": [
    "-------------\n",
    "#### Decide?\n",
    "\n",
    "One sample t-test or 2-sample t-test?  \n",
    "One tailed or two tailed? \n",
    "\n",
    "**Hypothesis**\n",
    "\n",
    "$H_{0}$ : Fuel-efficiency in cars from 2008 == Fuel-efficency in cars from 1999\n",
    "\n",
    "$H_{a}$ : Fuel-efficiency in cars from 2008 != Fuel-efficency in cars from 1999\n",
    "\n",
    "**Significance Level**\n",
    "\n",
    "$\\alpha$ = 0.05\n",
    "\n",
    "**Verify Assumptions**\n",
    "\n",
    "- Normal: yes sort of (they have enough for central limit theorem to apply)\n",
    "- Independent: yes\n",
    "- Variance: close enough (can use True)"
   ]
  },
  {
   "cell_type": "code",
   "execution_count": 6,
   "metadata": {},
   "outputs": [],
   "source": [
    "df['fuel_efficiency'] = (df.cty + df.hwy) / 2"
   ]
  },
  {
   "cell_type": "code",
   "execution_count": 7,
   "metadata": {},
   "outputs": [],
   "source": [
    "cars1999 = df[df.year == 1999].fuel_efficiency\n",
    "cars2008 = df[df.year == 2008].fuel_efficiency"
   ]
  },
  {
   "cell_type": "code",
   "execution_count": 8,
   "metadata": {},
   "outputs": [],
   "source": [
    "alpha = 0.05"
   ]
  },
  {
   "cell_type": "code",
   "execution_count": 9,
   "metadata": {},
   "outputs": [
    {
     "data": {
      "text/plain": [
       "<AxesSubplot:>"
      ]
     },
     "execution_count": 9,
     "metadata": {},
     "output_type": "execute_result"
    },
    {
     "data": {
      "image/png": "[encoded data removed]",
      "text/plain": [
       "<Figure size 432x288 with 1 Axes>"
      ]
     },
     "metadata": {
      "needs_background": "light"
     },
     "output_type": "display_data"
    }
   ],
   "source": [
    "cars1999.hist()"
   ]
  },
  {
   "cell_type": "code",
   "execution_count": 38,
   "metadata": {},
   "outputs": [
    {
     "data": {
      "text/plain": [
       "<AxesSubplot:>"
      ]
     },
     "execution_count": 38,
     "metadata": {},
     "output_type": "execute_result"
    },
    {
     "data": {
      "image/png": "[encoded data removed]",
      "text/plain": [
       "<Figure size 432x288 with 1 Axes>"
      ]
     },
     "metadata": {
      "needs_background": "light"
     },
     "output_type": "display_data"
    }
   ],
   "source": [
    "cars2008.hist()"
   ]
  },
  {
   "cell_type": "code",
   "execution_count": 39,
   "metadata": {},
   "outputs": [
    {
     "data": {
      "text/plain": [
       "(117, 117)"
      ]
     },
     "execution_count": 39,
     "metadata": {},
     "output_type": "execute_result"
    }
   ],
   "source": [
    "# have more than 30 so I can use central limit theorem for sort of normal dist\n",
    "cars1999.count(), cars2008.count()"
   ]
  },
  {
   "cell_type": "code",
   "execution_count": 40,
   "metadata": {},
   "outputs": [
    {
     "data": {
      "text/plain": [
       "LeveneResult(statistic=0.033228136671080453, pvalue=0.855517569468803)"
      ]
     },
     "execution_count": 40,
     "metadata": {},
     "output_type": "execute_result"
    }
   ],
   "source": [
    "stats.levene(cars1999, cars2008)"
   ]
  },
  {
   "cell_type": "code",
   "execution_count": 41,
   "metadata": {},
   "outputs": [
    {
     "data": {
      "text/plain": [
       "(27.122605363984682, 24.097480106100797)"
      ]
     },
     "execution_count": 41,
     "metadata": {},
     "output_type": "execute_result"
    }
   ],
   "source": [
    "cars1999.var(), cars2008.var()"
   ]
  },
  {
   "cell_type": "code",
   "execution_count": 44,
   "metadata": {},
   "outputs": [
    {
     "data": {
      "text/plain": [
       "(0.21960177245940962, 0.8263744040323578, 0.05)"
      ]
     },
     "execution_count": 44,
     "metadata": {},
     "output_type": "execute_result"
    }
   ],
   "source": [
    "t, p = stats.ttest_ind(cars1999, cars2008)\n",
    "t, p , alpha"
   ]
  },
  {
   "cell_type": "code",
   "execution_count": 46,
   "metadata": {},
   "outputs": [
    {
     "name": "stdout",
     "output_type": "stream",
     "text": [
      "Cannot reject null hypothesis\n"
     ]
    }
   ],
   "source": [
    "if p > alpha:\n",
    "    print('Cannot reject null hypothesis')\n",
    "if p < alpha:\n",
    "    print('Can reject null hypothesis')"
   ]
  },
  {
   "cell_type": "markdown",
   "metadata": {},
   "source": [
    "### Conclusion: \n",
    "We cannot reject $H_{0}$. Average fuel efficiency of the cars from 1999 is the same as the cars from 2008. "
   ]
  },
  {
   "cell_type": "markdown",
   "metadata": {},
   "source": [
    "-------------\n",
    "#### Decide?\n",
    "\n",
    "One sample t-test or 2-sample t-test?  - 1 sample test\n",
    "One tailed or two tailed? - 1 tailed (more fuel efficient)\n",
    "\n",
    "\n",
    "**Hypothesis**\n",
    "\n",
    "$H_{0}$ : Fuel-efficiency of compact cars == fuel-efficiency of all cars\n",
    "\n",
    "$H_{a}$ : Fuel-efficiency of compact cars > fuel-efficiency of all cars\n",
    "\n",
    "**Significance Level**\n",
    "\n",
    "$\\alpha$ = 0.05\n",
    "\n",
    "**Verify Assumptions**\n",
    "\n",
    "- Normal: yes ish"
   ]
  },
  {
   "cell_type": "code",
   "execution_count": 52,
   "metadata": {},
   "outputs": [],
   "source": [
    "compact_cars = df[df['class'] == 'compact'].fuel_efficiency"
   ]
  },
  {
   "cell_type": "code",
   "execution_count": 54,
   "metadata": {},
   "outputs": [
    {
     "data": {
      "text/plain": [
       "<AxesSubplot:>"
      ]
     },
     "execution_count": 54,
     "metadata": {},
     "output_type": "execute_result"
    },
    {
     "data": {
      "image/png": "[encoded data removed]",
      "text/plain": [
       "<Figure size 432x288 with 1 Axes>"
      ]
     },
     "metadata": {
      "needs_background": "light"
     },
     "output_type": "display_data"
    }
   ],
   "source": [
    "compact_cars.hist()"
   ]
  },
  {
   "cell_type": "code",
   "execution_count": 58,
   "metadata": {},
   "outputs": [],
   "source": [
    "#get overall mean for fuel efficiency for all the cars\n",
    "overall_mean = df.fuel_efficiency.mean()\n",
    "alpha = 0.05"
   ]
  },
  {
   "cell_type": "code",
   "execution_count": 64,
   "metadata": {},
   "outputs": [
    {
     "data": {
      "text/plain": [
       "(7.896888573132535, 2.0992818971585668e-10, 0.05)"
      ]
     },
     "execution_count": 64,
     "metadata": {},
     "output_type": "execute_result"
    }
   ],
   "source": [
    "t, p = stats.ttest_1samp(compact_cars, overall_mean)\n",
    "t, p/2, alpha"
   ]
  },
  {
   "cell_type": "code",
   "execution_count": 74,
   "metadata": {},
   "outputs": [
    {
     "name": "stdout",
     "output_type": "stream",
     "text": [
      "Can reject null hypothesis\n"
     ]
    }
   ],
   "source": [
    "if p/2 > alpha:\n",
    "    print('Cannot reject null hypothesis')\n",
    "if p/2 < alpha:\n",
    "    print('Can reject null hypothesis')"
   ]
  },
  {
   "cell_type": "code",
   "execution_count": 66,
   "metadata": {},
   "outputs": [
    {
     "name": "stdout",
     "output_type": "stream",
     "text": [
      "Compact cars have an average fuel efficiency higher than the average fuel effiencey for all cars\n"
     ]
    }
   ],
   "source": [
    "if t > 0: \n",
    "    print('Compact cars have an average fuel efficiency higher than the average fuel effiencey for all cars')\n",
    "if t < 0:\n",
    "    print('Compact cars have an average fuel efficiency lower than the average fuel effiencey for all cars')\n"
   ]
  },
  {
   "cell_type": "markdown",
   "metadata": {},
   "source": [
    "-------------\n",
    "#### Decide?\n",
    "\n",
    "One sample t-test or 2-sample t-test?  - 2 sample t-test\n",
    "\n",
    "One tailed or two tailed? - 1 tailed (more fuel efficient)\n",
    "\n",
    "\n",
    "**Hypothesis**\n",
    "\n",
    "$H_{0}$ : Fuel-efficiency of manual cars == fuel-efficiency of automatic cars\n",
    "\n",
    "$H_{a}$ : Fuel-efficiency of manual cars > fuel-efficiency of automatic cars\n",
    "\n",
    "**Significance Level**\n",
    "\n",
    "$\\alpha$ = 0.05\n",
    "\n",
    "**Verify Assumptions**\n",
    "\n",
    "- Normal: yes ish\n",
    "- Independent: yes\n",
    "- Variance: close enough (I'll try both ways though)"
   ]
  },
  {
   "cell_type": "code",
   "execution_count": 69,
   "metadata": {},
   "outputs": [],
   "source": [
    "manual_cars = df[df.trans.str.startswith('manual')].fuel_efficiency\n",
    "automatic_cars = df[df.trans.str.startswith('auto')].fuel_efficiency"
   ]
  },
  {
   "cell_type": "code",
   "execution_count": 70,
   "metadata": {},
   "outputs": [
    {
     "data": {
      "text/plain": [
       "(77, 157)"
      ]
     },
     "execution_count": 70,
     "metadata": {},
     "output_type": "execute_result"
    }
   ],
   "source": [
    "manual_cars.count(), automatic_cars.count()"
   ]
  },
  {
   "cell_type": "code",
   "execution_count": 78,
   "metadata": {},
   "outputs": [
    {
     "data": {
      "text/plain": [
       "(26.635167464114826,\n",
       " 21.942777233382337,\n",
       " LeveneResult(statistic=0.20075824847529639, pvalue=0.6545276355131857))"
      ]
     },
     "execution_count": 78,
     "metadata": {},
     "output_type": "execute_result"
    }
   ],
   "source": [
    "manual_cars.var(), automatic_cars.var(), stats.levene(manual_cars, automatic_cars)"
   ]
  },
  {
   "cell_type": "code",
   "execution_count": 80,
   "metadata": {},
   "outputs": [
    {
     "data": {
      "text/plain": [
       "(4.593437735750014, 3.5771872005728416e-06, 0.05)"
      ]
     },
     "execution_count": 80,
     "metadata": {},
     "output_type": "execute_result"
    }
   ],
   "source": [
    "t, p = stats.ttest_ind(manual_cars, automatic_cars)\n",
    "\n",
    "t, p/2, alpha"
   ]
  },
  {
   "cell_type": "code",
   "execution_count": 75,
   "metadata": {},
   "outputs": [
    {
     "name": "stdout",
     "output_type": "stream",
     "text": [
      "Can reject null hypothesis\n"
     ]
    }
   ],
   "source": [
    "if p/2 > alpha:\n",
    "    print('Cannot reject null hypothesis')\n",
    "if p/2 < alpha:\n",
    "    print('Can reject null hypothesis')"
   ]
  },
  {
   "cell_type": "code",
   "execution_count": 76,
   "metadata": {},
   "outputs": [
    {
     "name": "stdout",
     "output_type": "stream",
     "text": [
      "Manual cars have a higher average fuel efficiency than automatic cars\n"
     ]
    }
   ],
   "source": [
    "if t > 0:\n",
    "    print('Manual cars have a higher average fuel efficiency than automatic cars')\n",
    "else:\n",
    "    print('Manual cars have a lower average fuel efficiency than automatic cars')"
   ]
  },
  {
   "cell_type": "markdown",
   "metadata": {},
   "source": [
    "### Conclusion:\n",
    "\n",
    "We can reject $H_{0}$. There is evidence to support the $H_{a}$, that manual cars have, on average, better fuel efficiency than automatic cars on average."
   ]
  },
  {
   "cell_type": "markdown",
   "metadata": {},
   "source": [
    "-------"
   ]
  },
  {
   "cell_type": "markdown",
   "metadata": {},
   "source": [
    "# Correlation Exercises"
   ]
  },
  {
   "cell_type": "markdown",
   "metadata": {},
   "source": [
    "### Exercise 1\n",
    "Use the telco_churn data. \n",
    "- Does tenure correlate with monthly charges? \n",
    "- Total charges? \n",
    "- What happens if you control for phone and internet service?"
   ]
  },
  {
   "cell_type": "code",
   "execution_count": 10,
   "metadata": {},
   "outputs": [],
   "source": [
    "def get_db_url(user, host, password, db_name):\n",
    "    \"\"\"\n",
    "    Order is important!! make sure you enter user, host, password, and then the name of the database you want to access\n",
    "    \"\"\"\n",
    "    url = f'mysql+pymysql://{user}:{password}@{host}/{db_name}'\n",
    "    return url"
   ]
  },
  {
   "cell_type": "code",
   "execution_count": 4,
   "metadata": {},
   "outputs": [],
   "source": [
    "from env import host, user, password\n",
    "db_name = 'telco_churn'\n",
    "url = get_db_url(user, host, password, db_name)"
   ]
  },
  {
   "cell_type": "code",
   "execution_count": 85,
   "metadata": {},
   "outputs": [],
   "source": [
    "df = pd.read_sql(\"\"\"\n",
    "        SELECT *\n",
    "        FROM customers AS c\n",
    "        JOIN payment_types AS pt ON c.payment_type_id = pt.payment_type_id\n",
    "        JOIN internet_service_types AS it ON it.internet_service_type_id = c.internet_service_type_id\n",
    "        JOIN contract_types AS ct ON ct.contract_type_id = c.contract_type_id;\n",
    "        \"\"\", url)"
   ]
  },
  {
   "cell_type": "code",
   "execution_count": 86,
   "metadata": {},
   "outputs": [
    {
     "data": {
      "text/html": [
       "<div>\n",
       "<style scoped>\n",
       "    .dataframe tbody tr th:only-of-type {\n",
       "        vertical-align: middle;\n",
       "    }\n",
       "\n",
       "    .dataframe tbody tr th {\n",
       "        vertical-align: top;\n",
       "    }\n",
       "\n",
       "    .dataframe thead th {\n",
       "        text-align: right;\n",
       "    }\n",
       "</style>\n",
       "<table border=\"1\" class=\"dataframe\">\n",
       "  <thead>\n",
       "    <tr style=\"text-align: right;\">\n",
       "      <th></th>\n",
       "      <th>customer_id</th>\n",
       "      <th>gender</th>\n",
       "      <th>senior_citizen</th>\n",
       "      <th>partner</th>\n",
       "      <th>dependents</th>\n",
       "      <th>tenure</th>\n",
       "      <th>phone_service</th>\n",
       "      <th>multiple_lines</th>\n",
       "      <th>internet_service_type_id</th>\n",
       "      <th>online_security</th>\n",
       "      <th>...</th>\n",
       "      <th>payment_type_id</th>\n",
       "      <th>monthly_charges</th>\n",
       "      <th>total_charges</th>\n",
       "      <th>churn</th>\n",
       "      <th>payment_type_id</th>\n",
       "      <th>payment_type</th>\n",
       "      <th>internet_service_type_id</th>\n",
       "      <th>internet_service_type</th>\n",
       "      <th>contract_type_id</th>\n",
       "      <th>contract_type</th>\n",
       "    </tr>\n",
       "  </thead>\n",
       "  <tbody>\n",
       "    <tr>\n",
       "      <th>0</th>\n",
       "      <td>0030-FNXPP</td>\n",
       "      <td>Female</td>\n",
       "      <td>0</td>\n",
       "      <td>No</td>\n",
       "      <td>No</td>\n",
       "      <td>3</td>\n",
       "      <td>Yes</td>\n",
       "      <td>No</td>\n",
       "      <td>3</td>\n",
       "      <td>No internet service</td>\n",
       "      <td>...</td>\n",
       "      <td>2</td>\n",
       "      <td>19.85</td>\n",
       "      <td>57.2</td>\n",
       "      <td>No</td>\n",
       "      <td>2</td>\n",
       "      <td>Mailed check</td>\n",
       "      <td>3</td>\n",
       "      <td>None</td>\n",
       "      <td>1</td>\n",
       "      <td>Month-to-month</td>\n",
       "    </tr>\n",
       "    <tr>\n",
       "      <th>1</th>\n",
       "      <td>0031-PVLZI</td>\n",
       "      <td>Female</td>\n",
       "      <td>0</td>\n",
       "      <td>Yes</td>\n",
       "      <td>Yes</td>\n",
       "      <td>4</td>\n",
       "      <td>Yes</td>\n",
       "      <td>No</td>\n",
       "      <td>3</td>\n",
       "      <td>No internet service</td>\n",
       "      <td>...</td>\n",
       "      <td>2</td>\n",
       "      <td>20.35</td>\n",
       "      <td>76.35</td>\n",
       "      <td>Yes</td>\n",
       "      <td>2</td>\n",
       "      <td>Mailed check</td>\n",
       "      <td>3</td>\n",
       "      <td>None</td>\n",
       "      <td>1</td>\n",
       "      <td>Month-to-month</td>\n",
       "    </tr>\n",
       "    <tr>\n",
       "      <th>2</th>\n",
       "      <td>0098-BOWSO</td>\n",
       "      <td>Male</td>\n",
       "      <td>0</td>\n",
       "      <td>No</td>\n",
       "      <td>No</td>\n",
       "      <td>27</td>\n",
       "      <td>Yes</td>\n",
       "      <td>No</td>\n",
       "      <td>3</td>\n",
       "      <td>No internet service</td>\n",
       "      <td>...</td>\n",
       "      <td>1</td>\n",
       "      <td>19.40</td>\n",
       "      <td>529.8</td>\n",
       "      <td>No</td>\n",
       "      <td>1</td>\n",
       "      <td>Electronic check</td>\n",
       "      <td>3</td>\n",
       "      <td>None</td>\n",
       "      <td>1</td>\n",
       "      <td>Month-to-month</td>\n",
       "    </tr>\n",
       "    <tr>\n",
       "      <th>3</th>\n",
       "      <td>0107-WESLM</td>\n",
       "      <td>Male</td>\n",
       "      <td>0</td>\n",
       "      <td>No</td>\n",
       "      <td>No</td>\n",
       "      <td>1</td>\n",
       "      <td>Yes</td>\n",
       "      <td>No</td>\n",
       "      <td>3</td>\n",
       "      <td>No internet service</td>\n",
       "      <td>...</td>\n",
       "      <td>1</td>\n",
       "      <td>19.85</td>\n",
       "      <td>19.85</td>\n",
       "      <td>Yes</td>\n",
       "      <td>1</td>\n",
       "      <td>Electronic check</td>\n",
       "      <td>3</td>\n",
       "      <td>None</td>\n",
       "      <td>1</td>\n",
       "      <td>Month-to-month</td>\n",
       "    </tr>\n",
       "    <tr>\n",
       "      <th>4</th>\n",
       "      <td>0114-RSRRW</td>\n",
       "      <td>Female</td>\n",
       "      <td>0</td>\n",
       "      <td>Yes</td>\n",
       "      <td>No</td>\n",
       "      <td>10</td>\n",
       "      <td>Yes</td>\n",
       "      <td>No</td>\n",
       "      <td>3</td>\n",
       "      <td>No internet service</td>\n",
       "      <td>...</td>\n",
       "      <td>3</td>\n",
       "      <td>19.95</td>\n",
       "      <td>187.75</td>\n",
       "      <td>No</td>\n",
       "      <td>3</td>\n",
       "      <td>Bank transfer (automatic)</td>\n",
       "      <td>3</td>\n",
       "      <td>None</td>\n",
       "      <td>1</td>\n",
       "      <td>Month-to-month</td>\n",
       "    </tr>\n",
       "  </tbody>\n",
       "</table>\n",
       "<p>5 rows × 27 columns</p>\n",
       "</div>"
      ],
      "text/plain": [
       "  customer_id  gender  senior_citizen partner dependents  tenure  \\\n",
       "0  0030-FNXPP  Female               0      No         No       3   \n",
       "1  0031-PVLZI  Female               0     Yes        Yes       4   \n",
       "2  0098-BOWSO    Male               0      No         No      27   \n",
       "3  0107-WESLM    Male               0      No         No       1   \n",
       "4  0114-RSRRW  Female               0     Yes         No      10   \n",
       "\n",
       "  phone_service multiple_lines internet_service_type_id      online_security  \\\n",
       "0           Yes             No                        3  No internet service   \n",
       "1           Yes             No                        3  No internet service   \n",
       "2           Yes             No                        3  No internet service   \n",
       "3           Yes             No                        3  No internet service   \n",
       "4           Yes             No                        3  No internet service   \n",
       "\n",
       "   ... payment_type_id monthly_charges total_charges churn payment_type_id  \\\n",
       "0  ...               2           19.85          57.2    No               2   \n",
       "1  ...               2           20.35         76.35   Yes               2   \n",
       "2  ...               1           19.40         529.8    No               1   \n",
       "3  ...               1           19.85         19.85   Yes               1   \n",
       "4  ...               3           19.95        187.75    No               3   \n",
       "\n",
       "                payment_type internet_service_type_id  internet_service_type  \\\n",
       "0               Mailed check                        3                   None   \n",
       "1               Mailed check                        3                   None   \n",
       "2           Electronic check                        3                   None   \n",
       "3           Electronic check                        3                   None   \n",
       "4  Bank transfer (automatic)                        3                   None   \n",
       "\n",
       "   contract_type_id   contract_type  \n",
       "0                 1  Month-to-month  \n",
       "1                 1  Month-to-month  \n",
       "2                 1  Month-to-month  \n",
       "3                 1  Month-to-month  \n",
       "4                 1  Month-to-month  \n",
       "\n",
       "[5 rows x 27 columns]"
      ]
     },
     "execution_count": 86,
     "metadata": {},
     "output_type": "execute_result"
    }
   ],
   "source": [
    "df.head()"
   ]
  },
  {
   "cell_type": "code",
   "execution_count": 89,
   "metadata": {},
   "outputs": [
    {
     "data": {
      "text/plain": [
       "False"
      ]
     },
     "execution_count": 89,
     "metadata": {},
     "output_type": "execute_result"
    }
   ],
   "source": [
    "# check to see if any of the values are null\n",
    "df.isnull().values.any()"
   ]
  },
  {
   "cell_type": "markdown",
   "metadata": {},
   "source": [
    "##### Tenure - Monthly Charges\n",
    "$H_{0}$: There is no correlation between tenure and monthly charges\n",
    "\n",
    "$H_{a}$: There is a correlation between tenure and monthly charges\n",
    "\n",
    "alpha = 0.05"
   ]
  },
  {
   "cell_type": "code",
   "execution_count": 116,
   "metadata": {},
   "outputs": [
    {
     "data": {
      "text/plain": [
       "Text(0, 0.5, 'Monthly Charges')"
      ]
     },
     "execution_count": 116,
     "metadata": {},
     "output_type": "execute_result"
    },
    {
     "data": {
      "image/png": "[encoded data removed]",
      "text/plain": [
       "<Figure size 432x288 with 1 Axes>"
      ]
     },
     "metadata": {
      "needs_background": "light"
     },
     "output_type": "display_data"
    }
   ],
   "source": [
    "tenure = df.tenure\n",
    "monthly_charges = df.monthly_charges\n",
    "alpha = 0.05\n",
    "plt.scatter(tenure, monthly_charges)\n",
    "plt.xlabel(\"Tenure (Months)\")\n",
    "plt.ylabel(\"Monthly Charges\")"
   ]
  },
  {
   "cell_type": "code",
   "execution_count": 114,
   "metadata": {},
   "outputs": [
    {
     "data": {
      "text/plain": [
       "(0.24789985628615094, 4.094044991494188e-99, 0.05)"
      ]
     },
     "execution_count": 114,
     "metadata": {},
     "output_type": "execute_result"
    }
   ],
   "source": [
    "corr, p = stats.pearsonr(tenure, monthly_charges)\n",
    "corr, p, alpha"
   ]
  },
  {
   "cell_type": "markdown",
   "metadata": {},
   "source": [
    "The p value is less than alpha, there is a correlation between monthly charges and tenure\n",
    "\n",
    "The correlation coefficient is 0.25. Small but positive correlation between monthly charges and tenure  "
   ]
  },
  {
   "cell_type": "markdown",
   "metadata": {},
   "source": [
    "##### Tenure and Total Charges\n",
    "\n",
    "$H_{0}$: There is no correlation between tenure and total charges\n",
    "\n",
    "$H_{0}$: There is a strong positive correlation of tenure and total charges\n",
    "\n",
    "alpha = 0.05"
   ]
  },
  {
   "cell_type": "code",
   "execution_count": 119,
   "metadata": {},
   "outputs": [],
   "source": [
    "# make new column for total charges (instead of the one given) by multiplying\n",
    "# monthly tenure by monthly charges\n",
    "df['totalcharges'] = df.tenure * df.monthly_charges"
   ]
  },
  {
   "cell_type": "code",
   "execution_count": 120,
   "metadata": {},
   "outputs": [
    {
     "data": {
      "text/plain": [
       "<matplotlib.collections.PathCollection at 0x7fd7e63a2940>"
      ]
     },
     "execution_count": 120,
     "metadata": {},
     "output_type": "execute_result"
    },
    {
     "data": {
      "image/png": "[encoded data removed]",
      "text/plain": [
       "<Figure size 432x288 with 1 Axes>"
      ]
     },
     "metadata": {
      "needs_background": "light"
     },
     "output_type": "display_data"
    }
   ],
   "source": [
    "totalcharges = df.totalcharges\n",
    "tenure = df.tenure\n",
    "alpha = 0.05\n",
    "\n",
    "plt.scatter(tenure, totalcharges)"
   ]
  },
  {
   "cell_type": "code",
   "execution_count": 121,
   "metadata": {},
   "outputs": [
    {
     "data": {
      "text/plain": [
       "(0.8265682623515945, 0.0, 0.05)"
      ]
     },
     "execution_count": 121,
     "metadata": {},
     "output_type": "execute_result"
    }
   ],
   "source": [
    "corr, p = stats.pearsonr(tenure, totalcharges)\n",
    "corr, p, alpha"
   ]
  },
  {
   "cell_type": "markdown",
   "metadata": {},
   "source": [
    "The p value is very VERY small, so we can reject the null hypothesis\n",
    "\n",
    "There is a correlation value of .83. Indicating a very strong positive correlation between total charges and tenure (which makes sense, the longer you've been with the company the higher your total charges will be)"
   ]
  },
  {
   "cell_type": "markdown",
   "metadata": {},
   "source": [
    "##### Phone and Internet Services Controls\n",
    "Tenure and Monthly Charges for (filter):\n",
    "- Compare only phone, with phone and internet\n",
    "- Compare internet types (DSL 1, Fiberoptic 2)"
   ]
  },
  {
   "cell_type": "code",
   "execution_count": 145,
   "metadata": {},
   "outputs": [],
   "source": [
    "# get tenure and monthly charges for only phone \n",
    "# should be(1526 rows)\n",
    "has_phone_service = df[df.phone_service == 'Yes']\n",
    "only_phone = has_phone_service[has_phone_service.internet_service_type == 'None']\n",
    "\n",
    "op_monthly = only_phone.monthly_charges\n",
    "op_tenure = only_phone.tenure"
   ]
  },
  {
   "cell_type": "code",
   "execution_count": 150,
   "metadata": {},
   "outputs": [],
   "source": [
    "# get tenure and monthly charges for phone & internet\n",
    "# should be (4835 rows)\n",
    "phone_internet = has_phone_service[has_phone_service.internet_service_type != 'None']\n",
    "\n",
    "pi_monthly = phone_internet.monthly_charges\n",
    "pi_tenure = phone_internet.tenure"
   ]
  },
  {
   "cell_type": "code",
   "execution_count": 155,
   "metadata": {},
   "outputs": [
    {
     "data": {
      "image/png": "[encoded data removed]",
      "text/plain": [
       "<Figure size 432x288 with 1 Axes>"
      ]
     },
     "metadata": {
      "needs_background": "light"
     },
     "output_type": "display_data"
    }
   ],
   "source": [
    "# graph both (so many dots!!)\n",
    "\n",
    "plt.scatter(op_tenure, op_monthly, c = 'blue', alpha = .8)\n",
    "plt.scatter(pi_tenure, pi_monthly, c = 'green', alpha = .8)\n",
    "plt.show()"
   ]
  },
  {
   "cell_type": "code",
   "execution_count": 156,
   "metadata": {},
   "outputs": [
    {
     "data": {
      "text/plain": [
       "(0.34232562306194514, 3.356186955196629e-43, 0.05)"
      ]
     },
     "execution_count": 156,
     "metadata": {},
     "output_type": "execute_result"
    }
   ],
   "source": [
    "op_corr, op_p = stats.pearsonr(op_tenure, op_monthly)\n",
    "op_corr, op_p, alpha"
   ]
  },
  {
   "cell_type": "code",
   "execution_count": 158,
   "metadata": {},
   "outputs": [
    {
     "data": {
      "text/plain": [
       "(0.4431147667282177, 1.0146095231161675e-231, 0.05)"
      ]
     },
     "execution_count": 158,
     "metadata": {},
     "output_type": "execute_result"
    }
   ],
   "source": [
    "pi_corr, pi_p = stats.pearsonr(pi_tenure, pi_monthly)\n",
    "pi_corr, pi_p, alpha"
   ]
  },
  {
   "cell_type": "markdown",
   "metadata": {},
   "source": [
    "Both p values (for Only Phone category and Phone and Internet category) are very low. The phone and Internet category much much more so. They are well below the alpha.\n",
    "\n",
    "It seems that both groups have a positive correlation between monthly charges and tenure. The group of people who have both Phone and Internet, even more so (0.44)"
   ]
  },
  {
   "cell_type": "code",
   "execution_count": null,
   "metadata": {},
   "outputs": [],
   "source": [
    "# get tenure and monthly charges for DSL customers\n",
    "# should be (2421 rows)"
   ]
  },
  {
   "cell_type": "code",
   "execution_count": null,
   "metadata": {},
   "outputs": [],
   "source": [
    "# get tenure and monthly charges for Fiber-optic customers\n",
    "# should be (3096)\n"
   ]
  },
  {
   "cell_type": "markdown",
   "metadata": {},
   "source": [
    "### Exercise 2\n",
    "Use the employees database.\n",
    "- Is there a relationship between how long an employee has been with the company and their salary?\n",
    "- Is there a relationship between how long an employee has been with the company and the number of titles they have had?"
   ]
  },
  {
   "cell_type": "code",
   "execution_count": 5,
   "metadata": {},
   "outputs": [],
   "source": [
    "# get employees table info\n",
    "\n",
    "from env import host, user, password\n",
    "db_name = 'employees'\n",
    "url = get_db_url(user, host, password, db_name)\n",
    "\n",
    "employees = pd.read_sql(\"SELECT emp_no, hire_date FROM employees;\", url)"
   ]
  },
  {
   "cell_type": "code",
   "execution_count": null,
   "metadata": {},
   "outputs": [],
   "source": [
    "salaries = pd.read_sql('SELECT * FROM salaries;', url)"
   ]
  },
  {
   "cell_type": "code",
   "execution_count": null,
   "metadata": {},
   "outputs": [],
   "source": [
    "title = pd.read_sql(\n",
    "        \"\"\"\n",
    "        SELECT emp_no,\n",
    "        count(title) AS title_count\n",
    "        FROM titles\n",
    "        GROUP BY emp_no;\n",
    "        \"\"\", url)"
   ]
  },
  {
   "cell_type": "code",
   "execution_count": null,
   "metadata": {},
   "outputs": [],
   "source": [
    "to_dates = pd.read_sql(\n",
    "        \"\"\"\n",
    "        SELECT \n",
    "        emp_no,\n",
    "        MAX(to_date) AS MAX_to_date\n",
    "        FROM salaries\n",
    "        GROUP BY emp_no;\n",
    "        \"\"\", url)"
   ]
  },
  {
   "cell_type": "code",
   "execution_count": null,
   "metadata": {},
   "outputs": [],
   "source": [
    "df_emp = (employees.merge(salaries,  \n",
    "                    how='inner')\n",
    "                    )"
   ]
  },
  {
   "cell_type": "code",
   "execution_count": null,
   "metadata": {},
   "outputs": [],
   "source": [
    "df_emp =(df_emp.merge(title, how = 'inner'))"
   ]
  },
  {
   "cell_type": "code",
   "execution_count": null,
   "metadata": {},
   "outputs": [],
   "source": [
    "df_emp = df_emp.merge(to_dates, how = 'inner')"
   ]
  },
  {
   "cell_type": "code",
   "execution_count": null,
   "metadata": {},
   "outputs": [],
   "source": [
    "df_emp.head()\n",
    "\n",
    "# GROUP BY THE EMPNO\n",
    "# MAX SALARY"
   ]
  },
  {
   "cell_type": "code",
   "execution_count": null,
   "metadata": {},
   "outputs": [],
   "source": []
  },
  {
   "cell_type": "code",
   "execution_count": null,
   "metadata": {},
   "outputs": [],
   "source": []
  },
  {
   "cell_type": "code",
   "execution_count": null,
   "metadata": {},
   "outputs": [],
   "source": []
  },
  {
   "cell_type": "markdown",
   "metadata": {},
   "source": [
    "### Exercise 3 \n",
    "Use the sleepstudy data. \n",
    "- Is there a relationship between days and reaction time?"
   ]
  },
  {
   "cell_type": "code",
   "execution_count": 11,
   "metadata": {},
   "outputs": [],
   "source": [
    "sleep_df = data('sleepstudy')"
   ]
  },
  {
   "cell_type": "code",
   "execution_count": 13,
   "metadata": {},
   "outputs": [],
   "source": [
    "reaction = sleep_df.Reaction\n",
    "days = sleep_df.Days"
   ]
  },
  {
   "cell_type": "code",
   "execution_count": 17,
   "metadata": {},
   "outputs": [
    {
     "data": {
      "text/plain": [
       "<matplotlib.collections.PathCollection at 0x7f9349353130>"
      ]
     },
     "execution_count": 17,
     "metadata": {},
     "output_type": "execute_result"
    },
    {
     "data": {
      "image/png": "[encoded data removed]",
      "text/plain": [
       "<Figure size 432x288 with 1 Axes>"
      ]
     },
     "metadata": {
      "needs_background": "light"
     },
     "output_type": "display_data"
    }
   ],
   "source": [
    "plt.scatter(days, reaction)"
   ]
  },
  {
   "cell_type": "code",
   "execution_count": 18,
   "metadata": {},
   "outputs": [
    {
     "data": {
      "text/plain": [
       "(0.5352302262650253, 9.894096322214812e-15)"
      ]
     },
     "execution_count": 18,
     "metadata": {},
     "output_type": "execute_result"
    }
   ],
   "source": [
    "sleep_c, sleep_p = stats.pearsonr(days, reaction)\n",
    "sleep_c, sleep_p"
   ]
  },
  {
   "cell_type": "code",
   "execution_count": null,
   "metadata": {},
   "outputs": [],
   "source": [
    "# there is a positive correlation between days and reaction time (reaction time goes up as number of days goes up.)"
   ]
  }
 ],
 "metadata": {
  "kernelspec": {
   "display_name": "Python 3",
   "language": "python",
   "name": "python3"
  },
  "language_info": {
   "codemirror_mode": {
    "name": "ipython",
    "version": 3
   },
   "file_extension": ".py",
   "mimetype": "text/x-python",
   "name": "python",
   "nbconvert_exporter": "python",
   "pygments_lexer": "ipython3",
   "version": "3.8.5"
  }
 },
 "nbformat": 4,
 "nbformat_minor": 4
}
