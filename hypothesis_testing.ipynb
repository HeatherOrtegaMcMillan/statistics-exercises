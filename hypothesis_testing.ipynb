{
 "cells": [
  {
   "cell_type": "markdown",
   "metadata": {},
   "source": [
    "# Hypothesis Testing Exercises"
   ]
  },
  {
   "cell_type": "markdown",
   "metadata": {},
   "source": [
    "For each of the following questions, formulate a null and alternative hypothesis (be as specific as you can be), then give an example of what a true positive, true negative, type I and type II errors would look like. Note that some of the questions are intentionally phrased in a vague way. It is your job to reword these as more precise questions that could be tested.\n",
    "\n",
    "- Has the network latency gone up since we switched internet service providers?\n",
    "- Is the website redesign any good?\n",
    "- Is our television ad driving more sales?"
   ]
  },
  {
   "cell_type": "markdown",
   "metadata": {},
   "source": [
    "#### QUESTIONS TO ANSWER\n",
    "- Do I need to reword the question?\n",
    "- What are the variables?\n",
    "- What type are the variables?\n",
    "- Formulate null hypothesis\n",
    "- Formulate alt hypothesis\n",
    "- Example of True Positive\n",
    "- Example of True Negative\n",
    "- Example of Type 1 error (False Positive)\n",
    "- Example of Type 2 error (False Negative)\n",
    "- What type of tests should I run? "
   ]
  },
  {
   "cell_type": "markdown",
   "metadata": {},
   "source": [
    "### Has the network latency gone up since we switched internet service providers?\n",
    "\n",
    "Reworded question: Is network latancy higher with company 2 than compnay 1?\n",
    "\n",
    "Variables: \n",
    "- Internet Service Provider (discrete)\n",
    "- Internet speed (continuous)\n",
    "\n",
    "$H_{0}$ Network Latancy is the same accross both internet service providers\n",
    "\n",
    "$H_{a}$ The network latancy for company 2 is higher than company 1. \n",
    "\n",
    "True Positive = The data shows there's a difference in network latancy since we switched internet providers and statistical testing proves this isn't by chance \n",
    "\n",
    "True Negative = The data shows that there is NO difference (null hypothesis is true) in network latancy since we switched internet providers, statistical testing proves this  \n",
    "\n",
    "Type 1 Error = our data suggests that there is a difference in speed between the two companies, but statistical testing says this isn't real\n",
    "\n",
    "Type 2 Error = our data suggests that there is NO difference in speed between the two companies (null hypothesis seems true) but the stastistical testing says we might have messed up (sample size, or this is highly likely to happen by chance)"
   ]
  },
  {
   "cell_type": "markdown",
   "metadata": {},
   "source": [
    "### Is the website redesign any good?\n",
    "\n",
    "Is the new website more efficent with click counts? (i.e. the amount of clicks it take from website entry to product purchase is lower)\n",
    "\n",
    "Variables:\n",
    "- click count to purchase (discrete) (1, 2, 3, 4, 5, 6)\n",
    "- website (old or new, discrete) \n",
    "\n",
    "$H_{0}$ There is no difference in click count between the new website and the old website\n",
    "\n",
    "$H_{1}$ The click count is lower on the new website than the old website.\n",
    "\n",
    "$H_{2}$ The click count is higher on the new website than the old website.\n",
    "\n",
    "True Positive = The data shows there's a difference in click count between the new and the old website and statistical testing proves this isn't by chance\n",
    "\n",
    "False Positive = The data shows there's NO difference in click count between the new and the old website and statistical testing proves this isn't by chance\n",
    "\n",
    "Type 1 error = Our data shows that there is a difference in the click counts between the websites but the statistical testing says it's not significant enough.\n",
    "\n",
    "Type 2 error = Our data shows there is NO difference in the click counts between websites but statistcal testing shows we might not have a big enough sample size or it might too likely for it to be random"
   ]
  },
  {
   "cell_type": "markdown",
   "metadata": {},
   "source": [
    "### Is our television ad driving more sales?\n",
    "\n",
    "Is the television ad campagin having a positive impact on sales?\n",
    "\n",
    "Variables: \n",
    "- time (continuous)\n",
    "- sales numbers (i.e. weekly revenue, monthly revenue) (continous)\n",
    "\n",
    "$H_{0}$ The television ad has no impact on sales\n",
    "\n",
    "$H_{1}$ The television ad has a positive impact on sales (i.e. revenue goes up)\n",
    "\n",
    "$H_{2}$ The television ad has a negative impact on sales (i.e. revenue goes down)\n",
    "\n",
    "True Positive = The data suggests that the tv ad has an impact on sales and the statistcal testing proves that's fine \n",
    "\n",
    "True Negative = The data suggests that the tv ad has no impact on sales and that's actually true.\n",
    "\n",
    "Type 1 Error (False Positive) = The data suggests that the tv ad has some sort of impact on sales, but the statistical testing says otherwise.\n",
    "\n",
    "Type 2 Error (False Negative) = The data suggests that the tv ad has NO impact on sales but the statistical testing suggests there might be an issue with the sample size or the chances."
   ]
  },
  {
   "cell_type": "markdown",
   "metadata": {},
   "source": [
    "## Telco Churn Questions"
   ]
  },
  {
   "cell_type": "markdown",
   "metadata": {},
   "source": [
    "- Do monthly charges have an impact on churn\n",
    "- Does being a senior have an impact on tenure\n",
    "- Does having a different service (internet, phone, both...)\n",
    "- Is there a relationship between tenure and monthly cost?\n",
    "- Does having dependents have an effect on churn"
   ]
  },
  {
   "cell_type": "markdown",
   "metadata": {},
   "source": []
  },
  {
   "cell_type": "markdown",
   "metadata": {},
   "source": [
    "<hr style=\"border-top: 10px groove cyan; margin-top: 1px; margin-bottom: 1px\"></hr>"
   ]
  },
  {
   "cell_type": "markdown",
   "metadata": {},
   "source": [
    "# T-Test Exercises\n",
    "1. Ace Realty wants to determine whether the average time it takes to sell homes is different for its two offices. A sample of 40 sales from office #1 revealed a mean of 90 days and a standard deviation of 15 days. A sample of 50 sales from office #2 revealed a mean of 100 days and a standard deviation of 20 days. Use a .05 level of significance.\n",
    "\n",
    "2. Load the mpg dataset and use it to answer the following questions:\n",
    "\n",
    "    Is there a difference in fuel-efficiency in cars from 2008 vs 1999?\n",
    "    Are compact cars more fuel-efficient than the average car?\n",
    "    Do manual cars get better gas mileage than automatic cars?"
   ]
  },
  {
   "cell_type": "code",
   "execution_count": 3,
   "metadata": {},
   "outputs": [],
   "source": [
    "import numpy as np\n",
    "import seaborn as sns\n",
    "import scipy.stats as stats\n",
    "import pandas as pd\n",
    "import matplotlib.pyplot as plt\n",
    "from pydataset import data\n",
    " "
   ]
  },
  {
   "cell_type": "markdown",
   "metadata": {},
   "source": [
    "### Question 1\n",
    "$H_{0}$ : Average sale time for office 1 == average sale time for office 2\n",
    "\n",
    "$H_{a}$ : Average sale time for office 1 != average sale time for office 2"
   ]
  },
  {
   "cell_type": "code",
   "execution_count": 2,
   "metadata": {},
   "outputs": [
    {
     "data": {
      "text/plain": [
       "(-2.6252287036468456, 0.01020985244923939, 0.05)"
      ]
     },
     "execution_count": 2,
     "metadata": {},
     "output_type": "execute_result"
    }
   ],
   "source": [
    "office1_nobs = 40\n",
    "office1_mean = 90\n",
    "office1_std = 15\n",
    "office2_nobs = 50\n",
    "office2_mean = 100\n",
    "office2_std = 20\n",
    "alpha = .05\n",
    "t, p = stats.ttest_ind_from_stats(office1_mean, office1_std, office1_nobs, office2_mean, office2_std, office2_nobs)\n",
    "t, p, alpha"
   ]
  },
  {
   "cell_type": "code",
   "execution_count": 3,
   "metadata": {},
   "outputs": [
    {
     "name": "stdout",
     "output_type": "stream",
     "text": [
      "We can reject the Null hypothesis\n"
     ]
    }
   ],
   "source": [
    "if p < alpha:\n",
    "    print('We can reject the Null hypothesis')\n",
    "if p > alpha:\n",
    "    print('We cannot reject the Null hypothesis')"
   ]
  },
  {
   "cell_type": "markdown",
   "metadata": {},
   "source": [
    "### Question 2\n",
    "    Is there a difference in fuel-efficiency in cars from 2008 vs 1999?\n",
    "    Are compact cars more fuel-efficient than the average car?\n",
    "    Do manual cars get better gas mileage than automatic cars?"
   ]
  },
  {
   "cell_type": "code",
   "execution_count": 52,
   "metadata": {},
   "outputs": [],
   "source": [
    "df = data('mpg')"
   ]
  },
  {
   "cell_type": "code",
   "execution_count": 53,
   "metadata": {},
   "outputs": [
    {
     "name": "stdout",
     "output_type": "stream",
     "text": [
      "<class 'pandas.core.frame.DataFrame'>\n",
      "Int64Index: 234 entries, 1 to 234\n",
      "Data columns (total 11 columns):\n",
      " #   Column        Non-Null Count  Dtype  \n",
      "---  ------        --------------  -----  \n",
      " 0   manufacturer  234 non-null    object \n",
      " 1   model         234 non-null    object \n",
      " 2   displ         234 non-null    float64\n",
      " 3   year          234 non-null    int64  \n",
      " 4   cyl           234 non-null    int64  \n",
      " 5   trans         234 non-null    object \n",
      " 6   drv           234 non-null    object \n",
      " 7   cty           234 non-null    int64  \n",
      " 8   hwy           234 non-null    int64  \n",
      " 9   fl            234 non-null    object \n",
      " 10  class         234 non-null    object \n",
      "dtypes: float64(1), int64(4), object(6)\n",
      "memory usage: 21.9+ KB\n"
     ]
    },
    {
     "data": {
      "text/html": [
       "<div>\n",
       "<style scoped>\n",
       "    .dataframe tbody tr th:only-of-type {\n",
       "        vertical-align: middle;\n",
       "    }\n",
       "\n",
       "    .dataframe tbody tr th {\n",
       "        vertical-align: top;\n",
       "    }\n",
       "\n",
       "    .dataframe thead th {\n",
       "        text-align: right;\n",
       "    }\n",
       "</style>\n",
       "<table border=\"1\" class=\"dataframe\">\n",
       "  <thead>\n",
       "    <tr style=\"text-align: right;\">\n",
       "      <th></th>\n",
       "      <th>manufacturer</th>\n",
       "      <th>model</th>\n",
       "      <th>displ</th>\n",
       "      <th>year</th>\n",
       "      <th>cyl</th>\n",
       "      <th>trans</th>\n",
       "      <th>drv</th>\n",
       "      <th>cty</th>\n",
       "      <th>hwy</th>\n",
       "      <th>fl</th>\n",
       "      <th>class</th>\n",
       "    </tr>\n",
       "  </thead>\n",
       "  <tbody>\n",
       "    <tr>\n",
       "      <th>1</th>\n",
       "      <td>audi</td>\n",
       "      <td>a4</td>\n",
       "      <td>1.8</td>\n",
       "      <td>1999</td>\n",
       "      <td>4</td>\n",
       "      <td>auto(l5)</td>\n",
       "      <td>f</td>\n",
       "      <td>18</td>\n",
       "      <td>29</td>\n",
       "      <td>p</td>\n",
       "      <td>compact</td>\n",
       "    </tr>\n",
       "    <tr>\n",
       "      <th>2</th>\n",
       "      <td>audi</td>\n",
       "      <td>a4</td>\n",
       "      <td>1.8</td>\n",
       "      <td>1999</td>\n",
       "      <td>4</td>\n",
       "      <td>manual(m5)</td>\n",
       "      <td>f</td>\n",
       "      <td>21</td>\n",
       "      <td>29</td>\n",
       "      <td>p</td>\n",
       "      <td>compact</td>\n",
       "    </tr>\n",
       "    <tr>\n",
       "      <th>3</th>\n",
       "      <td>audi</td>\n",
       "      <td>a4</td>\n",
       "      <td>2.0</td>\n",
       "      <td>2008</td>\n",
       "      <td>4</td>\n",
       "      <td>manual(m6)</td>\n",
       "      <td>f</td>\n",
       "      <td>20</td>\n",
       "      <td>31</td>\n",
       "      <td>p</td>\n",
       "      <td>compact</td>\n",
       "    </tr>\n",
       "    <tr>\n",
       "      <th>4</th>\n",
       "      <td>audi</td>\n",
       "      <td>a4</td>\n",
       "      <td>2.0</td>\n",
       "      <td>2008</td>\n",
       "      <td>4</td>\n",
       "      <td>auto(av)</td>\n",
       "      <td>f</td>\n",
       "      <td>21</td>\n",
       "      <td>30</td>\n",
       "      <td>p</td>\n",
       "      <td>compact</td>\n",
       "    </tr>\n",
       "    <tr>\n",
       "      <th>5</th>\n",
       "      <td>audi</td>\n",
       "      <td>a4</td>\n",
       "      <td>2.8</td>\n",
       "      <td>1999</td>\n",
       "      <td>6</td>\n",
       "      <td>auto(l5)</td>\n",
       "      <td>f</td>\n",
       "      <td>16</td>\n",
       "      <td>26</td>\n",
       "      <td>p</td>\n",
       "      <td>compact</td>\n",
       "    </tr>\n",
       "  </tbody>\n",
       "</table>\n",
       "</div>"
      ],
      "text/plain": [
       "  manufacturer model  displ  year  cyl       trans drv  cty  hwy fl    class\n",
       "1         audi    a4    1.8  1999    4    auto(l5)   f   18   29  p  compact\n",
       "2         audi    a4    1.8  1999    4  manual(m5)   f   21   29  p  compact\n",
       "3         audi    a4    2.0  2008    4  manual(m6)   f   20   31  p  compact\n",
       "4         audi    a4    2.0  2008    4    auto(av)   f   21   30  p  compact\n",
       "5         audi    a4    2.8  1999    6    auto(l5)   f   16   26  p  compact"
      ]
     },
     "execution_count": 53,
     "metadata": {},
     "output_type": "execute_result"
    }
   ],
   "source": [
    "df.info()\n",
    "df.head()"
   ]
  },
  {
   "cell_type": "markdown",
   "metadata": {},
   "source": [
    "-------------\n",
    "#### Decide?\n",
    "\n",
    "One sample t-test or 2-sample t-test?  \n",
    "One tailed or two tailed? \n",
    "\n",
    "**Hypothesis**\n",
    "\n",
    "$H_{0}$ : Fuel-efficiency in cars from 2008 == Fuel-efficency in cars from 1999\n",
    "\n",
    "$H_{a}$ : Fuel-efficiency in cars from 2008 != Fuel-efficency in cars from 1999\n",
    "\n",
    "**Significance Level**\n",
    "\n",
    "$\\alpha$ = 0.05\n",
    "\n",
    "**Verify Assumptions**\n",
    "\n",
    "- Normal: yes sort of (they have enough for central limit theorem to apply)\n",
    "- Independent: yes\n",
    "- Variance: close enough (can use True)"
   ]
  },
  {
   "cell_type": "code",
   "execution_count": 54,
   "metadata": {},
   "outputs": [],
   "source": [
    "df['fuel_efficiency'] = (df.cty + df.hwy) / 2"
   ]
  },
  {
   "cell_type": "code",
   "execution_count": 55,
   "metadata": {},
   "outputs": [],
   "source": [
    "cars1999 = df[df.year == 1999].fuel_efficiency\n",
    "cars2008 = df[df.year == 2008].fuel_efficiency"
   ]
  },
  {
   "cell_type": "code",
   "execution_count": 56,
   "metadata": {},
   "outputs": [],
   "source": [
    "alpha = 0.05"
   ]
  },
  {
   "cell_type": "code",
   "execution_count": 9,
   "metadata": {},
   "outputs": [
    {
     "data": {
      "text/plain": [
       "<AxesSubplot:>"
      ]
     },
     "execution_count": 9,
     "metadata": {},
     "output_type": "execute_result"
    },
    {
     "data": {
      "image/png": "[encoded data removed]",
      "text/plain": [
       "<Figure size 432x288 with 1 Axes>"
      ]
     },
     "metadata": {
      "needs_background": "light"
     },
     "output_type": "display_data"
    }
   ],
   "source": [
    "cars1999.hist()"
   ]
  },
  {
   "cell_type": "code",
   "execution_count": 57,
   "metadata": {},
   "outputs": [
    {
     "data": {
      "text/plain": [
       "<AxesSubplot:>"
      ]
     },
     "execution_count": 57,
     "metadata": {},
     "output_type": "execute_result"
    },
    {
     "data": {
      "image/png": "[encoded data removed]",
      "text/plain": [
       "<Figure size 432x288 with 1 Axes>"
      ]
     },
     "metadata": {
      "needs_background": "light"
     },
     "output_type": "display_data"
    }
   ],
   "source": [
    "cars2008.hist()"
   ]
  },
  {
   "cell_type": "code",
   "execution_count": 58,
   "metadata": {},
   "outputs": [
    {
     "data": {
      "text/plain": [
       "(117, 117)"
      ]
     },
     "execution_count": 58,
     "metadata": {},
     "output_type": "execute_result"
    }
   ],
   "source": [
    "# have more than 30 so I can use central limit theorem for sort of normal dist\n",
    "cars1999.count(), cars2008.count()"
   ]
  },
  {
   "cell_type": "code",
   "execution_count": 59,
   "metadata": {},
   "outputs": [
    {
     "data": {
      "text/plain": [
       "LeveneResult(statistic=0.033228136671080453, pvalue=0.855517569468803)"
      ]
     },
     "execution_count": 59,
     "metadata": {},
     "output_type": "execute_result"
    }
   ],
   "source": [
    "stats.levene(cars1999, cars2008)"
   ]
  },
  {
   "cell_type": "code",
   "execution_count": 60,
   "metadata": {},
   "outputs": [
    {
     "data": {
      "text/plain": [
       "(27.122605363984682, 24.097480106100797)"
      ]
     },
     "execution_count": 60,
     "metadata": {},
     "output_type": "execute_result"
    }
   ],
   "source": [
    "cars1999.var(), cars2008.var()"
   ]
  },
  {
   "cell_type": "code",
   "execution_count": 61,
   "metadata": {},
   "outputs": [
    {
     "data": {
      "text/plain": [
       "(0.21960177245940962, 0.8263744040323578, 0.05)"
      ]
     },
     "execution_count": 61,
     "metadata": {},
     "output_type": "execute_result"
    }
   ],
   "source": [
    "t, p = stats.ttest_ind(cars1999, cars2008)\n",
    "t, p , alpha"
   ]
  },
  {
   "cell_type": "code",
   "execution_count": 62,
   "metadata": {},
   "outputs": [
    {
     "name": "stdout",
     "output_type": "stream",
     "text": [
      "Cannot reject null hypothesis\n"
     ]
    }
   ],
   "source": [
    "if p > alpha:\n",
    "    print('Cannot reject null hypothesis')\n",
    "if p < alpha:\n",
    "    print('Can reject null hypothesis')"
   ]
  },
  {
   "cell_type": "markdown",
   "metadata": {},
   "source": [
    "### Conclusion: \n",
    "We cannot reject $H_{0}$. Average fuel efficiency of the cars from 1999 is the same as the cars from 2008. "
   ]
  },
  {
   "cell_type": "markdown",
   "metadata": {},
   "source": [
    "-------------\n",
    "#### Decide?\n",
    "\n",
    "One sample t-test or 2-sample t-test?  - 1 sample test\n",
    "One tailed or two tailed? - 1 tailed (more fuel efficient)\n",
    "\n",
    "\n",
    "**Hypothesis**\n",
    "\n",
    "$H_{0}$ : Fuel-efficiency of compact cars == fuel-efficiency of all cars\n",
    "\n",
    "$H_{a}$ : Fuel-efficiency of compact cars > fuel-efficiency of all cars\n",
    "\n",
    "**Significance Level**\n",
    "\n",
    "$\\alpha$ = 0.05\n",
    "\n",
    "**Verify Assumptions**\n",
    "\n",
    "- Normal: yes ish"
   ]
  },
  {
   "cell_type": "code",
   "execution_count": 63,
   "metadata": {},
   "outputs": [],
   "source": [
    "compact_cars = df[df['class'] == 'compact'].fuel_efficiency"
   ]
  },
  {
   "cell_type": "code",
   "execution_count": 54,
   "metadata": {},
   "outputs": [
    {
     "data": {
      "text/plain": [
       "<AxesSubplot:>"
      ]
     },
     "execution_count": 54,
     "metadata": {},
     "output_type": "execute_result"
    },
    {
     "data": {
      "image/png": "[encoded data removed]",
      "text/plain": [
       "<Figure size 432x288 with 1 Axes>"
      ]
     },
     "metadata": {
      "needs_background": "light"
     },
     "output_type": "display_data"
    }
   ],
   "source": [
    "compact_cars.hist()"
   ]
  },
  {
   "cell_type": "code",
   "execution_count": 64,
   "metadata": {},
   "outputs": [],
   "source": [
    "#get overall mean for fuel efficiency for all the cars\n",
    "overall_mean = df.fuel_efficiency.mean()\n",
    "alpha = 0.05"
   ]
  },
  {
   "cell_type": "code",
   "execution_count": 65,
   "metadata": {},
   "outputs": [
    {
     "data": {
      "text/plain": [
       "(7.896888573132535, 2.0992818971585668e-10, 0.05)"
      ]
     },
     "execution_count": 65,
     "metadata": {},
     "output_type": "execute_result"
    }
   ],
   "source": [
    "t, p = stats.ttest_1samp(compact_cars, overall_mean)\n",
    "t, p/2, alpha"
   ]
  },
  {
   "cell_type": "code",
   "execution_count": 66,
   "metadata": {},
   "outputs": [
    {
     "name": "stdout",
     "output_type": "stream",
     "text": [
      "Can reject null hypothesis\n"
     ]
    }
   ],
   "source": [
    "if p/2 > alpha:\n",
    "    print('Cannot reject null hypothesis')\n",
    "if p/2 < alpha:\n",
    "    print('Can reject null hypothesis')"
   ]
  },
  {
   "cell_type": "code",
   "execution_count": 67,
   "metadata": {},
   "outputs": [
    {
     "name": "stdout",
     "output_type": "stream",
     "text": [
      "Compact cars have an average fuel efficiency higher than the average fuel effiencey for all cars\n"
     ]
    }
   ],
   "source": [
    "if t > 0: \n",
    "    print('Compact cars have an average fuel efficiency higher than the average fuel effiencey for all cars')\n",
    "if t < 0:\n",
    "    print('Compact cars have an average fuel efficiency lower than the average fuel effiencey for all cars')\n"
   ]
  },
  {
   "cell_type": "markdown",
   "metadata": {},
   "source": [
    "-------------\n",
    "#### Decide?\n",
    "\n",
    "One sample t-test or 2-sample t-test?  - 2 sample t-test\n",
    "\n",
    "One tailed or two tailed? - 1 tailed (more fuel efficient)\n",
    "\n",
    "\n",
    "**Hypothesis**\n",
    "\n",
    "$H_{0}$ : Fuel-efficiency of manual cars == fuel-efficiency of automatic cars\n",
    "\n",
    "$H_{a}$ : Fuel-efficiency of manual cars > fuel-efficiency of automatic cars\n",
    "\n",
    "**Significance Level**\n",
    "\n",
    "$\\alpha$ = 0.05\n",
    "\n",
    "**Verify Assumptions**\n",
    "\n",
    "- Normal: yes ish\n",
    "- Independent: yes\n",
    "- Variance: close enough (I'll try both ways though)"
   ]
  },
  {
   "cell_type": "code",
   "execution_count": 69,
   "metadata": {},
   "outputs": [],
   "source": [
    "manual_cars = df[df.trans.str.startswith('manual')].fuel_efficiency\n",
    "automatic_cars = df[df.trans.str.startswith('auto')].fuel_efficiency"
   ]
  },
  {
   "cell_type": "code",
   "execution_count": 70,
   "metadata": {},
   "outputs": [
    {
     "data": {
      "text/plain": [
       "(77, 157)"
      ]
     },
     "execution_count": 70,
     "metadata": {},
     "output_type": "execute_result"
    }
   ],
   "source": [
    "manual_cars.count(), automatic_cars.count()"
   ]
  },
  {
   "cell_type": "code",
   "execution_count": 78,
   "metadata": {},
   "outputs": [
    {
     "data": {
      "text/plain": [
       "(26.635167464114826,\n",
       " 21.942777233382337,\n",
       " LeveneResult(statistic=0.20075824847529639, pvalue=0.6545276355131857))"
      ]
     },
     "execution_count": 78,
     "metadata": {},
     "output_type": "execute_result"
    }
   ],
   "source": [
    "manual_cars.var(), automatic_cars.var(), stats.levene(manual_cars, automatic_cars)"
   ]
  },
  {
   "cell_type": "code",
   "execution_count": 80,
   "metadata": {},
   "outputs": [
    {
     "data": {
      "text/plain": [
       "(4.593437735750014, 3.5771872005728416e-06, 0.05)"
      ]
     },
     "execution_count": 80,
     "metadata": {},
     "output_type": "execute_result"
    }
   ],
   "source": [
    "t, p = stats.ttest_ind(manual_cars, automatic_cars)\n",
    "\n",
    "t, p/2, alpha"
   ]
  },
  {
   "cell_type": "code",
   "execution_count": 75,
   "metadata": {},
   "outputs": [
    {
     "name": "stdout",
     "output_type": "stream",
     "text": [
      "Can reject null hypothesis\n"
     ]
    }
   ],
   "source": [
    "if p/2 > alpha:\n",
    "    print('Cannot reject null hypothesis')\n",
    "if p/2 < alpha:\n",
    "    print('Can reject null hypothesis')"
   ]
  },
  {
   "cell_type": "code",
   "execution_count": 76,
   "metadata": {},
   "outputs": [
    {
     "name": "stdout",
     "output_type": "stream",
     "text": [
      "Manual cars have a higher average fuel efficiency than automatic cars\n"
     ]
    }
   ],
   "source": [
    "if t > 0:\n",
    "    print('Manual cars have a higher average fuel efficiency than automatic cars')\n",
    "else:\n",
    "    print('Manual cars have a lower average fuel efficiency than automatic cars')"
   ]
  },
  {
   "cell_type": "markdown",
   "metadata": {},
   "source": [
    "### Conclusion:\n",
    "\n",
    "We can reject $H_{0}$. There is evidence to support the $H_{a}$, that manual cars have, on average, better fuel efficiency than automatic cars on average."
   ]
  },
  {
   "cell_type": "markdown",
   "metadata": {},
   "source": [
    "<hr style=\"border-top: 10px groove cyan; margin-top: 1px; margin-bottom: 1px\"></hr>"
   ]
  },
  {
   "cell_type": "markdown",
   "metadata": {},
   "source": [
    "# Correlation Exercises"
   ]
  },
  {
   "cell_type": "markdown",
   "metadata": {},
   "source": [
    "### Exercise 1\n",
    "Use the telco_churn data. \n",
    "- Does tenure correlate with monthly charges? \n",
    "- Total charges? \n",
    "- What happens if you control for phone and internet service?"
   ]
  },
  {
   "cell_type": "code",
   "execution_count": 110,
   "metadata": {},
   "outputs": [],
   "source": [
    "def get_db_url(user, host, password, db_name):\n",
    "    \"\"\"\n",
    "    Order is important!! make sure you enter user, host, password, and then the name of the database you want to access\n",
    "    \"\"\"\n",
    "    url = f'mysql+pymysql://{user}:{password}@{host}/{db_name}'\n",
    "    return url"
   ]
  },
  {
   "cell_type": "code",
   "execution_count": 4,
   "metadata": {},
   "outputs": [],
   "source": [
    "from env import host, user, password\n",
    "db_name = 'telco_churn'\n",
    "url = get_db_url(user, host, password, db_name)"
   ]
  },
  {
   "cell_type": "code",
   "execution_count": 85,
   "metadata": {},
   "outputs": [],
   "source": [
    "df = pd.read_sql(\"\"\"\n",
    "        SELECT *\n",
    "        FROM customers AS c\n",
    "        JOIN payment_types AS pt ON c.payment_type_id = pt.payment_type_id\n",
    "        JOIN internet_service_types AS it ON it.internet_service_type_id = c.internet_service_type_id\n",
    "        JOIN contract_types AS ct ON ct.contract_type_id = c.contract_type_id;\n",
    "        \"\"\", url)"
   ]
  },
  {
   "cell_type": "code",
   "execution_count": 86,
   "metadata": {},
   "outputs": [
    {
     "data": {
      "text/html": [
       "<div>\n",
       "<style scoped>\n",
       "    .dataframe tbody tr th:only-of-type {\n",
       "        vertical-align: middle;\n",
       "    }\n",
       "\n",
       "    .dataframe tbody tr th {\n",
       "        vertical-align: top;\n",
       "    }\n",
       "\n",
       "    .dataframe thead th {\n",
       "        text-align: right;\n",
       "    }\n",
       "</style>\n",
       "<table border=\"1\" class=\"dataframe\">\n",
       "  <thead>\n",
       "    <tr style=\"text-align: right;\">\n",
       "      <th></th>\n",
       "      <th>customer_id</th>\n",
       "      <th>gender</th>\n",
       "      <th>senior_citizen</th>\n",
       "      <th>partner</th>\n",
       "      <th>dependents</th>\n",
       "      <th>tenure</th>\n",
       "      <th>phone_service</th>\n",
       "      <th>multiple_lines</th>\n",
       "      <th>internet_service_type_id</th>\n",
       "      <th>online_security</th>\n",
       "      <th>...</th>\n",
       "      <th>payment_type_id</th>\n",
       "      <th>monthly_charges</th>\n",
       "      <th>total_charges</th>\n",
       "      <th>churn</th>\n",
       "      <th>payment_type_id</th>\n",
       "      <th>payment_type</th>\n",
       "      <th>internet_service_type_id</th>\n",
       "      <th>internet_service_type</th>\n",
       "      <th>contract_type_id</th>\n",
       "      <th>contract_type</th>\n",
       "    </tr>\n",
       "  </thead>\n",
       "  <tbody>\n",
       "    <tr>\n",
       "      <th>0</th>\n",
       "      <td>0030-FNXPP</td>\n",
       "      <td>Female</td>\n",
       "      <td>0</td>\n",
       "      <td>No</td>\n",
       "      <td>No</td>\n",
       "      <td>3</td>\n",
       "      <td>Yes</td>\n",
       "      <td>No</td>\n",
       "      <td>3</td>\n",
       "      <td>No internet service</td>\n",
       "      <td>...</td>\n",
       "      <td>2</td>\n",
       "      <td>19.85</td>\n",
       "      <td>57.2</td>\n",
       "      <td>No</td>\n",
       "      <td>2</td>\n",
       "      <td>Mailed check</td>\n",
       "      <td>3</td>\n",
       "      <td>None</td>\n",
       "      <td>1</td>\n",
       "      <td>Month-to-month</td>\n",
       "    </tr>\n",
       "    <tr>\n",
       "      <th>1</th>\n",
       "      <td>0031-PVLZI</td>\n",
       "      <td>Female</td>\n",
       "      <td>0</td>\n",
       "      <td>Yes</td>\n",
       "      <td>Yes</td>\n",
       "      <td>4</td>\n",
       "      <td>Yes</td>\n",
       "      <td>No</td>\n",
       "      <td>3</td>\n",
       "      <td>No internet service</td>\n",
       "      <td>...</td>\n",
       "      <td>2</td>\n",
       "      <td>20.35</td>\n",
       "      <td>76.35</td>\n",
       "      <td>Yes</td>\n",
       "      <td>2</td>\n",
       "      <td>Mailed check</td>\n",
       "      <td>3</td>\n",
       "      <td>None</td>\n",
       "      <td>1</td>\n",
       "      <td>Month-to-month</td>\n",
       "    </tr>\n",
       "    <tr>\n",
       "      <th>2</th>\n",
       "      <td>0098-BOWSO</td>\n",
       "      <td>Male</td>\n",
       "      <td>0</td>\n",
       "      <td>No</td>\n",
       "      <td>No</td>\n",
       "      <td>27</td>\n",
       "      <td>Yes</td>\n",
       "      <td>No</td>\n",
       "      <td>3</td>\n",
       "      <td>No internet service</td>\n",
       "      <td>...</td>\n",
       "      <td>1</td>\n",
       "      <td>19.40</td>\n",
       "      <td>529.8</td>\n",
       "      <td>No</td>\n",
       "      <td>1</td>\n",
       "      <td>Electronic check</td>\n",
       "      <td>3</td>\n",
       "      <td>None</td>\n",
       "      <td>1</td>\n",
       "      <td>Month-to-month</td>\n",
       "    </tr>\n",
       "    <tr>\n",
       "      <th>3</th>\n",
       "      <td>0107-WESLM</td>\n",
       "      <td>Male</td>\n",
       "      <td>0</td>\n",
       "      <td>No</td>\n",
       "      <td>No</td>\n",
       "      <td>1</td>\n",
       "      <td>Yes</td>\n",
       "      <td>No</td>\n",
       "      <td>3</td>\n",
       "      <td>No internet service</td>\n",
       "      <td>...</td>\n",
       "      <td>1</td>\n",
       "      <td>19.85</td>\n",
       "      <td>19.85</td>\n",
       "      <td>Yes</td>\n",
       "      <td>1</td>\n",
       "      <td>Electronic check</td>\n",
       "      <td>3</td>\n",
       "      <td>None</td>\n",
       "      <td>1</td>\n",
       "      <td>Month-to-month</td>\n",
       "    </tr>\n",
       "    <tr>\n",
       "      <th>4</th>\n",
       "      <td>0114-RSRRW</td>\n",
       "      <td>Female</td>\n",
       "      <td>0</td>\n",
       "      <td>Yes</td>\n",
       "      <td>No</td>\n",
       "      <td>10</td>\n",
       "      <td>Yes</td>\n",
       "      <td>No</td>\n",
       "      <td>3</td>\n",
       "      <td>No internet service</td>\n",
       "      <td>...</td>\n",
       "      <td>3</td>\n",
       "      <td>19.95</td>\n",
       "      <td>187.75</td>\n",
       "      <td>No</td>\n",
       "      <td>3</td>\n",
       "      <td>Bank transfer (automatic)</td>\n",
       "      <td>3</td>\n",
       "      <td>None</td>\n",
       "      <td>1</td>\n",
       "      <td>Month-to-month</td>\n",
       "    </tr>\n",
       "  </tbody>\n",
       "</table>\n",
       "<p>5 rows × 27 columns</p>\n",
       "</div>"
      ],
      "text/plain": [
       "  customer_id  gender  senior_citizen partner dependents  tenure  \\\n",
       "0  0030-FNXPP  Female               0      No         No       3   \n",
       "1  0031-PVLZI  Female               0     Yes        Yes       4   \n",
       "2  0098-BOWSO    Male               0      No         No      27   \n",
       "3  0107-WESLM    Male               0      No         No       1   \n",
       "4  0114-RSRRW  Female               0     Yes         No      10   \n",
       "\n",
       "  phone_service multiple_lines internet_service_type_id      online_security  \\\n",
       "0           Yes             No                        3  No internet service   \n",
       "1           Yes             No                        3  No internet service   \n",
       "2           Yes             No                        3  No internet service   \n",
       "3           Yes             No                        3  No internet service   \n",
       "4           Yes             No                        3  No internet service   \n",
       "\n",
       "   ... payment_type_id monthly_charges total_charges churn payment_type_id  \\\n",
       "0  ...               2           19.85          57.2    No               2   \n",
       "1  ...               2           20.35         76.35   Yes               2   \n",
       "2  ...               1           19.40         529.8    No               1   \n",
       "3  ...               1           19.85         19.85   Yes               1   \n",
       "4  ...               3           19.95        187.75    No               3   \n",
       "\n",
       "                payment_type internet_service_type_id  internet_service_type  \\\n",
       "0               Mailed check                        3                   None   \n",
       "1               Mailed check                        3                   None   \n",
       "2           Electronic check                        3                   None   \n",
       "3           Electronic check                        3                   None   \n",
       "4  Bank transfer (automatic)                        3                   None   \n",
       "\n",
       "   contract_type_id   contract_type  \n",
       "0                 1  Month-to-month  \n",
       "1                 1  Month-to-month  \n",
       "2                 1  Month-to-month  \n",
       "3                 1  Month-to-month  \n",
       "4                 1  Month-to-month  \n",
       "\n",
       "[5 rows x 27 columns]"
      ]
     },
     "execution_count": 86,
     "metadata": {},
     "output_type": "execute_result"
    }
   ],
   "source": [
    "df.head()"
   ]
  },
  {
   "cell_type": "code",
   "execution_count": 89,
   "metadata": {},
   "outputs": [
    {
     "data": {
      "text/plain": [
       "False"
      ]
     },
     "execution_count": 89,
     "metadata": {},
     "output_type": "execute_result"
    }
   ],
   "source": [
    "# check to see if any of the values are null\n",
    "df.isnull().values.any()"
   ]
  },
  {
   "cell_type": "markdown",
   "metadata": {},
   "source": [
    "##### Tenure - Monthly Charges\n",
    "$H_{0}$: There is no correlation between tenure and monthly charges\n",
    "\n",
    "$H_{a}$: There is a correlation between tenure and monthly charges\n",
    "\n",
    "alpha = 0.05"
   ]
  },
  {
   "cell_type": "code",
   "execution_count": 116,
   "metadata": {},
   "outputs": [
    {
     "data": {
      "text/plain": [
       "Text(0, 0.5, 'Monthly Charges')"
      ]
     },
     "execution_count": 116,
     "metadata": {},
     "output_type": "execute_result"
    },
    {
     "data": {
      "image/png": "[encoded data removed]",
      "text/plain": [
       "<Figure size 432x288 with 1 Axes>"
      ]
     },
     "metadata": {
      "needs_background": "light"
     },
     "output_type": "display_data"
    }
   ],
   "source": [
    "tenure = df.tenure\n",
    "monthly_charges = df.monthly_charges\n",
    "alpha = 0.05\n",
    "plt.scatter(tenure, monthly_charges)\n",
    "plt.xlabel(\"Tenure (Months)\")\n",
    "plt.ylabel(\"Monthly Charges\")"
   ]
  },
  {
   "cell_type": "code",
   "execution_count": 114,
   "metadata": {},
   "outputs": [
    {
     "data": {
      "text/plain": [
       "(0.24789985628615094, 4.094044991494188e-99, 0.05)"
      ]
     },
     "execution_count": 114,
     "metadata": {},
     "output_type": "execute_result"
    }
   ],
   "source": [
    "corr, p = stats.pearsonr(tenure, monthly_charges)\n",
    "corr, p, alpha"
   ]
  },
  {
   "cell_type": "markdown",
   "metadata": {},
   "source": [
    "The p value is less than alpha, there is a correlation between monthly charges and tenure\n",
    "\n",
    "The correlation coefficient is 0.25. Small but positive correlation between monthly charges and tenure  "
   ]
  },
  {
   "cell_type": "markdown",
   "metadata": {},
   "source": [
    "##### Tenure and Total Charges\n",
    "\n",
    "$H_{0}$: There is no correlation between tenure and total charges\n",
    "\n",
    "$H_{0}$: There is a strong positive correlation of tenure and total charges\n",
    "\n",
    "alpha = 0.05"
   ]
  },
  {
   "cell_type": "code",
   "execution_count": 119,
   "metadata": {},
   "outputs": [],
   "source": [
    "# make new column for total charges (instead of the one given) by multiplying\n",
    "# monthly tenure by monthly charges\n",
    "df['totalcharges'] = df.tenure * df.monthly_charges"
   ]
  },
  {
   "cell_type": "code",
   "execution_count": 120,
   "metadata": {},
   "outputs": [
    {
     "data": {
      "text/plain": [
       "<matplotlib.collections.PathCollection at 0x7fd7e63a2940>"
      ]
     },
     "execution_count": 120,
     "metadata": {},
     "output_type": "execute_result"
    },
    {
     "data": {
      "image/png": "[encoded data removed]",
      "text/plain": [
       "<Figure size 432x288 with 1 Axes>"
      ]
     },
     "metadata": {
      "needs_background": "light"
     },
     "output_type": "display_data"
    }
   ],
   "source": [
    "totalcharges = df.totalcharges\n",
    "tenure = df.tenure\n",
    "alpha = 0.05\n",
    "\n",
    "plt.scatter(tenure, totalcharges)"
   ]
  },
  {
   "cell_type": "code",
   "execution_count": 121,
   "metadata": {},
   "outputs": [
    {
     "data": {
      "text/plain": [
       "(0.8265682623515945, 0.0, 0.05)"
      ]
     },
     "execution_count": 121,
     "metadata": {},
     "output_type": "execute_result"
    }
   ],
   "source": [
    "corr, p = stats.pearsonr(tenure, totalcharges)\n",
    "corr, p, alpha"
   ]
  },
  {
   "cell_type": "markdown",
   "metadata": {},
   "source": [
    "The p value is very VERY small, so we can reject the null hypothesis\n",
    "\n",
    "There is a correlation value of .83. Indicating a very strong positive correlation between total charges and tenure (which makes sense, the longer you've been with the company the higher your total charges will be)"
   ]
  },
  {
   "cell_type": "markdown",
   "metadata": {},
   "source": [
    "##### Phone and Internet Services Controls\n",
    "Tenure and Monthly Charges for (filter):\n",
    "- Compare only phone, with phone and internet\n",
    "- Compare internet types (DSL 1, Fiberoptic 2)"
   ]
  },
  {
   "cell_type": "code",
   "execution_count": 145,
   "metadata": {},
   "outputs": [],
   "source": [
    "# get tenure and monthly charges for only phone \n",
    "# should be(1526 rows)\n",
    "has_phone_service = df[df.phone_service == 'Yes']\n",
    "only_phone = has_phone_service[has_phone_service.internet_service_type == 'None']\n",
    "\n",
    "op_monthly = only_phone.monthly_charges\n",
    "op_tenure = only_phone.tenure"
   ]
  },
  {
   "cell_type": "code",
   "execution_count": 150,
   "metadata": {},
   "outputs": [],
   "source": [
    "# get tenure and monthly charges for phone & internet\n",
    "# should be (4835 rows)\n",
    "phone_internet = has_phone_service[has_phone_service.internet_service_type != 'None']\n",
    "\n",
    "pi_monthly = phone_internet.monthly_charges\n",
    "pi_tenure = phone_internet.tenure"
   ]
  },
  {
   "cell_type": "code",
   "execution_count": 155,
   "metadata": {},
   "outputs": [
    {
     "data": {
      "image/png": "[encoded data removed]",
      "text/plain": [
       "<Figure size 432x288 with 1 Axes>"
      ]
     },
     "metadata": {
      "needs_background": "light"
     },
     "output_type": "display_data"
    }
   ],
   "source": [
    "# graph both (so many dots!!)\n",
    "\n",
    "plt.scatter(op_tenure, op_monthly, c = 'blue', alpha = .8)\n",
    "plt.scatter(pi_tenure, pi_monthly, c = 'green', alpha = .8)\n",
    "plt.show()"
   ]
  },
  {
   "cell_type": "code",
   "execution_count": 156,
   "metadata": {},
   "outputs": [
    {
     "data": {
      "text/plain": [
       "(0.34232562306194514, 3.356186955196629e-43, 0.05)"
      ]
     },
     "execution_count": 156,
     "metadata": {},
     "output_type": "execute_result"
    }
   ],
   "source": [
    "op_corr, op_p = stats.pearsonr(op_tenure, op_monthly)\n",
    "op_corr, op_p, alpha"
   ]
  },
  {
   "cell_type": "code",
   "execution_count": 158,
   "metadata": {},
   "outputs": [
    {
     "data": {
      "text/plain": [
       "(0.4431147667282177, 1.0146095231161675e-231, 0.05)"
      ]
     },
     "execution_count": 158,
     "metadata": {},
     "output_type": "execute_result"
    }
   ],
   "source": [
    "pi_corr, pi_p = stats.pearsonr(pi_tenure, pi_monthly)\n",
    "pi_corr, pi_p, alpha"
   ]
  },
  {
   "cell_type": "markdown",
   "metadata": {},
   "source": [
    "Both p values (for Only Phone category and Phone and Internet category) are very low. The phone and Internet category much much more so. They are well below the alpha.\n",
    "\n",
    "It seems that both groups have a positive correlation between monthly charges and tenure. The group of people who have both Phone and Internet, even more so (0.44)"
   ]
  },
  {
   "cell_type": "code",
   "execution_count": null,
   "metadata": {},
   "outputs": [],
   "source": [
    "# get tenure and monthly charges for DSL customers\n",
    "# should be (2421 rows)"
   ]
  },
  {
   "cell_type": "code",
   "execution_count": null,
   "metadata": {},
   "outputs": [],
   "source": [
    "# get tenure and monthly charges for Fiber-optic customers\n",
    "# should be (3096)\n"
   ]
  },
  {
   "cell_type": "markdown",
   "metadata": {},
   "source": [
    "### Exercise 2\n",
    "Use the employees database.\n",
    "- Is there a relationship between how long an employee has been with the company and their salary?\n",
    "- Is there a relationship between how long an employee has been with the company and the number of titles they have had?"
   ]
  },
  {
   "cell_type": "code",
   "execution_count": 4,
   "metadata": {},
   "outputs": [],
   "source": [
    "# get employees table info\n",
    "\n",
    "from env import host, user, password\n",
    "db_name = 'employees'\n",
    "url = get_db_url(user, host, password, db_name)\n",
    "\n",
    "employees = pd.read_sql(\"SELECT emp_no, hire_date FROM employees;\", url)"
   ]
  },
  {
   "cell_type": "code",
   "execution_count": 5,
   "metadata": {},
   "outputs": [],
   "source": [
    "salaries = pd.read_sql('SELECT * FROM salaries;', url)"
   ]
  },
  {
   "cell_type": "code",
   "execution_count": 6,
   "metadata": {},
   "outputs": [],
   "source": [
    "title = pd.read_sql(\n",
    "        \"\"\"\n",
    "        SELECT emp_no,\n",
    "        count(title) AS title_count\n",
    "        FROM titles\n",
    "        GROUP BY emp_no;\n",
    "        \"\"\", url)"
   ]
  },
  {
   "cell_type": "code",
   "execution_count": 7,
   "metadata": {},
   "outputs": [],
   "source": [
    "to_dates = pd.read_sql(\n",
    "        \"\"\"\n",
    "        SELECT \n",
    "        emp_no,\n",
    "        MAX(to_date) AS MAX_to_date\n",
    "        FROM salaries\n",
    "        GROUP BY emp_no;\n",
    "        \"\"\", url)"
   ]
  },
  {
   "cell_type": "code",
   "execution_count": 8,
   "metadata": {},
   "outputs": [],
   "source": [
    "df_emp = (employees.merge(salaries,  \n",
    "                    how='inner')\n",
    "                    )"
   ]
  },
  {
   "cell_type": "code",
   "execution_count": 9,
   "metadata": {},
   "outputs": [],
   "source": [
    "df_emp =(df_emp.merge(title, how = 'inner'))"
   ]
  },
  {
   "cell_type": "code",
   "execution_count": 10,
   "metadata": {},
   "outputs": [],
   "source": [
    "df_emp = (df_emp.merge(to_dates, how = 'inner'))"
   ]
  },
  {
   "cell_type": "code",
   "execution_count": 11,
   "metadata": {},
   "outputs": [],
   "source": [
    "# GROUP BY THE EMPNO\n",
    "# MAX SALARY\n",
    "# this has to be the max salary the employee ever had because sometimes people got a pay cut\n",
    "# maybe they switched departments or something\n",
    "# look at emp_no 10006 in the salaries table to see example\n",
    "max_salary = df_emp.groupby('emp_no').salary.agg('max')"
   ]
  },
  {
   "cell_type": "code",
   "execution_count": 12,
   "metadata": {},
   "outputs": [
    {
     "data": {
      "text/plain": [
       "pandas.core.series.Series"
      ]
     },
     "execution_count": 12,
     "metadata": {},
     "output_type": "execute_result"
    }
   ],
   "source": [
    "type(max_salary)"
   ]
  },
  {
   "cell_type": "code",
   "execution_count": 13,
   "metadata": {},
   "outputs": [],
   "source": [
    "#create datframe from the max_salary series\n",
    "max_salary = pd.DataFrame(max_salary)\n",
    "\n",
    "#reset index so there's actually an index column\n",
    "max_salary = max_salary.reset_index()"
   ]
  },
  {
   "cell_type": "code",
   "execution_count": 14,
   "metadata": {},
   "outputs": [
    {
     "data": {
      "text/html": [
       "<div>\n",
       "<style scoped>\n",
       "    .dataframe tbody tr th:only-of-type {\n",
       "        vertical-align: middle;\n",
       "    }\n",
       "\n",
       "    .dataframe tbody tr th {\n",
       "        vertical-align: top;\n",
       "    }\n",
       "\n",
       "    .dataframe thead th {\n",
       "        text-align: right;\n",
       "    }\n",
       "</style>\n",
       "<table border=\"1\" class=\"dataframe\">\n",
       "  <thead>\n",
       "    <tr style=\"text-align: right;\">\n",
       "      <th></th>\n",
       "      <th>emp_no</th>\n",
       "      <th>hire_date</th>\n",
       "      <th>MAX_to_date</th>\n",
       "    </tr>\n",
       "  </thead>\n",
       "  <tbody>\n",
       "    <tr>\n",
       "      <th>0</th>\n",
       "      <td>10001</td>\n",
       "      <td>1986-06-26</td>\n",
       "      <td>9999-01-01</td>\n",
       "    </tr>\n",
       "    <tr>\n",
       "      <th>1</th>\n",
       "      <td>10002</td>\n",
       "      <td>1985-11-21</td>\n",
       "      <td>9999-01-01</td>\n",
       "    </tr>\n",
       "    <tr>\n",
       "      <th>2</th>\n",
       "      <td>10003</td>\n",
       "      <td>1986-08-28</td>\n",
       "      <td>9999-01-01</td>\n",
       "    </tr>\n",
       "    <tr>\n",
       "      <th>3</th>\n",
       "      <td>10004</td>\n",
       "      <td>1986-12-01</td>\n",
       "      <td>9999-01-01</td>\n",
       "    </tr>\n",
       "    <tr>\n",
       "      <th>4</th>\n",
       "      <td>10005</td>\n",
       "      <td>1989-09-12</td>\n",
       "      <td>9999-01-01</td>\n",
       "    </tr>\n",
       "  </tbody>\n",
       "</table>\n",
       "</div>"
      ],
      "text/plain": [
       "   emp_no   hire_date MAX_to_date\n",
       "0   10001  1986-06-26  9999-01-01\n",
       "1   10002  1985-11-21  9999-01-01\n",
       "2   10003  1986-08-28  9999-01-01\n",
       "3   10004  1986-12-01  9999-01-01\n",
       "4   10005  1989-09-12  9999-01-01"
      ]
     },
     "execution_count": 14,
     "metadata": {},
     "output_type": "execute_result"
    }
   ],
   "source": [
    "#make new df_emp2 df to work with because df_emp was getting confusing\n",
    "df_emp2 = employees.merge(to_dates, how = 'inner')\n",
    "\n",
    "df_emp2.head()"
   ]
  },
  {
   "cell_type": "code",
   "execution_count": 15,
   "metadata": {},
   "outputs": [],
   "source": [
    "#use a left join to join the max salary dataframe to the rest of the dataframe (named: df_emp2)\n",
    "df_emp2 = df_emp2.merge(max_salary, how = 'left', on = 'emp_no')\n"
   ]
  },
  {
   "cell_type": "code",
   "execution_count": 16,
   "metadata": {},
   "outputs": [
    {
     "data": {
      "text/html": [
       "<div>\n",
       "<style scoped>\n",
       "    .dataframe tbody tr th:only-of-type {\n",
       "        vertical-align: middle;\n",
       "    }\n",
       "\n",
       "    .dataframe tbody tr th {\n",
       "        vertical-align: top;\n",
       "    }\n",
       "\n",
       "    .dataframe thead th {\n",
       "        text-align: right;\n",
       "    }\n",
       "</style>\n",
       "<table border=\"1\" class=\"dataframe\">\n",
       "  <thead>\n",
       "    <tr style=\"text-align: right;\">\n",
       "      <th></th>\n",
       "      <th>emp_no</th>\n",
       "      <th>hire_date</th>\n",
       "      <th>MAX_to_date</th>\n",
       "      <th>salary</th>\n",
       "    </tr>\n",
       "  </thead>\n",
       "  <tbody>\n",
       "    <tr>\n",
       "      <th>0</th>\n",
       "      <td>10001</td>\n",
       "      <td>1986-06-26</td>\n",
       "      <td>9999-01-01</td>\n",
       "      <td>88958</td>\n",
       "    </tr>\n",
       "    <tr>\n",
       "      <th>1</th>\n",
       "      <td>10002</td>\n",
       "      <td>1985-11-21</td>\n",
       "      <td>9999-01-01</td>\n",
       "      <td>72527</td>\n",
       "    </tr>\n",
       "    <tr>\n",
       "      <th>2</th>\n",
       "      <td>10003</td>\n",
       "      <td>1986-08-28</td>\n",
       "      <td>9999-01-01</td>\n",
       "      <td>43699</td>\n",
       "    </tr>\n",
       "    <tr>\n",
       "      <th>3</th>\n",
       "      <td>10004</td>\n",
       "      <td>1986-12-01</td>\n",
       "      <td>9999-01-01</td>\n",
       "      <td>74057</td>\n",
       "    </tr>\n",
       "    <tr>\n",
       "      <th>4</th>\n",
       "      <td>10005</td>\n",
       "      <td>1989-09-12</td>\n",
       "      <td>9999-01-01</td>\n",
       "      <td>94692</td>\n",
       "    </tr>\n",
       "    <tr>\n",
       "      <th>...</th>\n",
       "      <td>...</td>\n",
       "      <td>...</td>\n",
       "      <td>...</td>\n",
       "      <td>...</td>\n",
       "    </tr>\n",
       "    <tr>\n",
       "      <th>300019</th>\n",
       "      <td>499995</td>\n",
       "      <td>1993-01-12</td>\n",
       "      <td>9999-01-01</td>\n",
       "      <td>52868</td>\n",
       "    </tr>\n",
       "    <tr>\n",
       "      <th>300020</th>\n",
       "      <td>499996</td>\n",
       "      <td>1990-09-27</td>\n",
       "      <td>9999-01-01</td>\n",
       "      <td>69501</td>\n",
       "    </tr>\n",
       "    <tr>\n",
       "      <th>300021</th>\n",
       "      <td>499997</td>\n",
       "      <td>1986-04-21</td>\n",
       "      <td>9999-01-01</td>\n",
       "      <td>83441</td>\n",
       "    </tr>\n",
       "    <tr>\n",
       "      <th>300022</th>\n",
       "      <td>499998</td>\n",
       "      <td>1993-10-13</td>\n",
       "      <td>9999-01-01</td>\n",
       "      <td>55003</td>\n",
       "    </tr>\n",
       "    <tr>\n",
       "      <th>300023</th>\n",
       "      <td>499999</td>\n",
       "      <td>1997-11-30</td>\n",
       "      <td>9999-01-01</td>\n",
       "      <td>77303</td>\n",
       "    </tr>\n",
       "  </tbody>\n",
       "</table>\n",
       "<p>300024 rows × 4 columns</p>\n",
       "</div>"
      ],
      "text/plain": [
       "        emp_no   hire_date MAX_to_date  salary\n",
       "0        10001  1986-06-26  9999-01-01   88958\n",
       "1        10002  1985-11-21  9999-01-01   72527\n",
       "2        10003  1986-08-28  9999-01-01   43699\n",
       "3        10004  1986-12-01  9999-01-01   74057\n",
       "4        10005  1989-09-12  9999-01-01   94692\n",
       "...        ...         ...         ...     ...\n",
       "300019  499995  1993-01-12  9999-01-01   52868\n",
       "300020  499996  1990-09-27  9999-01-01   69501\n",
       "300021  499997  1986-04-21  9999-01-01   83441\n",
       "300022  499998  1993-10-13  9999-01-01   55003\n",
       "300023  499999  1997-11-30  9999-01-01   77303\n",
       "\n",
       "[300024 rows x 4 columns]"
      ]
     },
     "execution_count": 16,
     "metadata": {},
     "output_type": "execute_result"
    }
   ],
   "source": [
    "# success! \n",
    "# I now have all the info i want. emp_no, hire date, max_to_date, and the max salary they ever had. \n",
    "df_emp2"
   ]
  },
  {
   "cell_type": "code",
   "execution_count": 17,
   "metadata": {},
   "outputs": [
    {
     "data": {
      "text/html": [
       "<div>\n",
       "<style scoped>\n",
       "    .dataframe tbody tr th:only-of-type {\n",
       "        vertical-align: middle;\n",
       "    }\n",
       "\n",
       "    .dataframe tbody tr th {\n",
       "        vertical-align: top;\n",
       "    }\n",
       "\n",
       "    .dataframe thead th {\n",
       "        text-align: right;\n",
       "    }\n",
       "</style>\n",
       "<table border=\"1\" class=\"dataframe\">\n",
       "  <thead>\n",
       "    <tr style=\"text-align: right;\">\n",
       "      <th></th>\n",
       "      <th>emp_no</th>\n",
       "      <th>hire_date</th>\n",
       "      <th>MAX_to_date</th>\n",
       "      <th>MAX_salary</th>\n",
       "    </tr>\n",
       "  </thead>\n",
       "  <tbody>\n",
       "    <tr>\n",
       "      <th>0</th>\n",
       "      <td>10001</td>\n",
       "      <td>1986-06-26</td>\n",
       "      <td>9999-01-01</td>\n",
       "      <td>88958</td>\n",
       "    </tr>\n",
       "    <tr>\n",
       "      <th>1</th>\n",
       "      <td>10002</td>\n",
       "      <td>1985-11-21</td>\n",
       "      <td>9999-01-01</td>\n",
       "      <td>72527</td>\n",
       "    </tr>\n",
       "    <tr>\n",
       "      <th>2</th>\n",
       "      <td>10003</td>\n",
       "      <td>1986-08-28</td>\n",
       "      <td>9999-01-01</td>\n",
       "      <td>43699</td>\n",
       "    </tr>\n",
       "    <tr>\n",
       "      <th>3</th>\n",
       "      <td>10004</td>\n",
       "      <td>1986-12-01</td>\n",
       "      <td>9999-01-01</td>\n",
       "      <td>74057</td>\n",
       "    </tr>\n",
       "    <tr>\n",
       "      <th>4</th>\n",
       "      <td>10005</td>\n",
       "      <td>1989-09-12</td>\n",
       "      <td>9999-01-01</td>\n",
       "      <td>94692</td>\n",
       "    </tr>\n",
       "  </tbody>\n",
       "</table>\n",
       "</div>"
      ],
      "text/plain": [
       "   emp_no   hire_date MAX_to_date  MAX_salary\n",
       "0   10001  1986-06-26  9999-01-01       88958\n",
       "1   10002  1985-11-21  9999-01-01       72527\n",
       "2   10003  1986-08-28  9999-01-01       43699\n",
       "3   10004  1986-12-01  9999-01-01       74057\n",
       "4   10005  1989-09-12  9999-01-01       94692"
      ]
     },
     "execution_count": 17,
     "metadata": {},
     "output_type": "execute_result"
    }
   ],
   "source": [
    "# rename columns for clarity\n",
    "df_emp2.rename(columns = {'salary': 'MAX_salary'}, inplace = True)\n",
    "df_emp2.head()"
   ]
  },
  {
   "cell_type": "code",
   "execution_count": 18,
   "metadata": {},
   "outputs": [],
   "source": [
    "import time\n",
    "import datetime"
   ]
  },
  {
   "cell_type": "code",
   "execution_count": 19,
   "metadata": {},
   "outputs": [
    {
     "name": "stderr",
     "output_type": "stream",
     "text": [
      "<ipython-input-19-3752241e9b32>:4: FutureWarning: The pandas.datetime class is deprecated and will be removed from pandas in a future version. Import from datetime module instead.\n",
      "  df_emp2['MAX_to_date'] = df_emp2['MAX_to_date'].apply(lambda x: pd.datetime.today().date() if str(x).startswith('9999') else pd.to_datetime(x).date())\n"
     ]
    },
    {
     "name": "stdout",
     "output_type": "stream",
     "text": [
      "<class 'pandas.core.frame.DataFrame'>\n",
      "Int64Index: 300024 entries, 0 to 300023\n",
      "Data columns (total 4 columns):\n",
      " #   Column       Non-Null Count   Dtype \n",
      "---  ------       --------------   ----- \n",
      " 0   emp_no       300024 non-null  int64 \n",
      " 1   hire_date    300024 non-null  object\n",
      " 2   MAX_to_date  300024 non-null  object\n",
      " 3   MAX_salary   300024 non-null  int64 \n",
      "dtypes: int64(2), object(2)\n",
      "memory usage: 11.4+ MB\n"
     ]
    }
   ],
   "source": [
    "# make tenure column\n",
    "# step 1 - convert dates to date times\n",
    "\n",
    "df_emp2['MAX_to_date'] = df_emp2['MAX_to_date'].apply(lambda x: pd.datetime.today().date() if str(x).startswith('9999') else pd.to_datetime(x).date())\n",
    "df_emp2['hire_date'] =df_emp2['hire_date'].apply(lambda x: pd.datetime.today().date() if str(x).startswith('9999') else pd.to_datetime(x).date())\n",
    "df_emp2.info()"
   ]
  },
  {
   "cell_type": "code",
   "execution_count": 20,
   "metadata": {},
   "outputs": [],
   "source": [
    "# step 2 - subtract max_to_date from hire_date with DAYS as the output put in 'tenure' column\n",
    "df_emp2['tenure'] = df_emp2['MAX_to_date'] - df_emp2['hire_date']"
   ]
  },
  {
   "cell_type": "code",
   "execution_count": 21,
   "metadata": {},
   "outputs": [
    {
     "data": {
      "text/plain": [
       "0         12738\n",
       "1         12955\n",
       "2         12675\n",
       "3         12580\n",
       "4         11564\n",
       "          ...  \n",
       "300019    10346\n",
       "300020    11184\n",
       "300021    12804\n",
       "300022    10072\n",
       "300023     8563\n",
       "Name: tenure, Length: 300024, dtype: int64"
      ]
     },
     "execution_count": 21,
     "metadata": {},
     "output_type": "execute_result"
    }
   ],
   "source": [
    "#convert timedelta calculated difference in days, first to string, then replace days with nothing, and convert to int\n",
    "df_emp2['tenure'].astype('str').str.replace(' days', '').astype('int')\n",
    "\n"
   ]
  },
  {
   "cell_type": "code",
   "execution_count": 22,
   "metadata": {},
   "outputs": [],
   "source": [
    "#assign to df_emp2.tenure\n",
    "df_emp2['tenure'] = df_emp2['tenure'].astype('str').str.replace(' days', '').astype('int')"
   ]
  },
  {
   "cell_type": "code",
   "execution_count": 23,
   "metadata": {},
   "outputs": [
    {
     "data": {
      "text/plain": [
       "13279"
      ]
     },
     "execution_count": 23,
     "metadata": {},
     "output_type": "execute_result"
    }
   ],
   "source": [
    "x = df_emp2['tenure']\n",
    "y = df_emp2['MAX_salary']\n",
    "\n",
    "df_emp2.tenure.max()"
   ]
  },
  {
   "cell_type": "code",
   "execution_count": 24,
   "metadata": {},
   "outputs": [
    {
     "name": "stderr",
     "output_type": "stream",
     "text": [
      "/opt/homebrew/anaconda3/lib/python3.8/site-packages/seaborn/_decorators.py:36: FutureWarning: Pass the following variables as keyword args: x, y. From version 0.12, the only valid positional argument will be `data`, and passing other arguments without an explicit keyword will result in an error or misinterpretation.\n",
      "  warnings.warn(\n"
     ]
    },
    {
     "data": {
      "text/plain": [
       "<seaborn.axisgrid.FacetGrid at 0x7fe8b1c00c70>"
      ]
     },
     "execution_count": 24,
     "metadata": {},
     "output_type": "execute_result"
    },
    {
     "data": {
      "image/png": "[encoded data removed]",
      "text/plain": [
       "<Figure size 360x360 with 1 Axes>"
      ]
     },
     "metadata": {
      "needs_background": "light"
     },
     "output_type": "display_data"
    }
   ],
   "source": [
    "# I DID IT!!!! \n",
    "sns.relplot(x, y)\n",
    "\n",
    "# I wonder what that weird gap is in tenure between about 6000 and 8000 days"
   ]
  },
  {
   "cell_type": "code",
   "execution_count": 25,
   "metadata": {},
   "outputs": [
    {
     "data": {
      "text/plain": [
       "(0.32508455438083234, 0.0)"
      ]
     },
     "execution_count": 25,
     "metadata": {},
     "output_type": "execute_result"
    }
   ],
   "source": [
    "corr, p = stats.pearsonr(x, y)\n",
    "corr, p"
   ]
  },
  {
   "cell_type": "markdown",
   "metadata": {},
   "source": [
    "### Conclusion \n",
    "there is a correlation between tenure (in days) and the max salary someone had. very small positive coorelation. p value is 0.0 so can reject null hypothesis that there is no correlation between tenure and max salary had by an employee"
   ]
  },
  {
   "cell_type": "code",
   "execution_count": 26,
   "metadata": {},
   "outputs": [],
   "source": [
    "#create new df and merge title count (from variable 'titles', established with SQL query)\n",
    "# df_emp2 was getting a little crazy\n",
    "dfe = df_emp2.merge(title, how = 'inner')"
   ]
  },
  {
   "cell_type": "code",
   "execution_count": 27,
   "metadata": {},
   "outputs": [
    {
     "data": {
      "text/html": [
       "<div>\n",
       "<style scoped>\n",
       "    .dataframe tbody tr th:only-of-type {\n",
       "        vertical-align: middle;\n",
       "    }\n",
       "\n",
       "    .dataframe tbody tr th {\n",
       "        vertical-align: top;\n",
       "    }\n",
       "\n",
       "    .dataframe thead th {\n",
       "        text-align: right;\n",
       "    }\n",
       "</style>\n",
       "<table border=\"1\" class=\"dataframe\">\n",
       "  <thead>\n",
       "    <tr style=\"text-align: right;\">\n",
       "      <th></th>\n",
       "      <th>emp_no</th>\n",
       "      <th>hire_date</th>\n",
       "      <th>MAX_to_date</th>\n",
       "      <th>MAX_salary</th>\n",
       "      <th>tenure</th>\n",
       "      <th>title_count</th>\n",
       "    </tr>\n",
       "  </thead>\n",
       "  <tbody>\n",
       "    <tr>\n",
       "      <th>0</th>\n",
       "      <td>10001</td>\n",
       "      <td>1986-06-26</td>\n",
       "      <td>2021-05-11</td>\n",
       "      <td>88958</td>\n",
       "      <td>12738</td>\n",
       "      <td>1</td>\n",
       "    </tr>\n",
       "    <tr>\n",
       "      <th>1</th>\n",
       "      <td>10002</td>\n",
       "      <td>1985-11-21</td>\n",
       "      <td>2021-05-11</td>\n",
       "      <td>72527</td>\n",
       "      <td>12955</td>\n",
       "      <td>1</td>\n",
       "    </tr>\n",
       "    <tr>\n",
       "      <th>2</th>\n",
       "      <td>10003</td>\n",
       "      <td>1986-08-28</td>\n",
       "      <td>2021-05-11</td>\n",
       "      <td>43699</td>\n",
       "      <td>12675</td>\n",
       "      <td>1</td>\n",
       "    </tr>\n",
       "    <tr>\n",
       "      <th>3</th>\n",
       "      <td>10004</td>\n",
       "      <td>1986-12-01</td>\n",
       "      <td>2021-05-11</td>\n",
       "      <td>74057</td>\n",
       "      <td>12580</td>\n",
       "      <td>2</td>\n",
       "    </tr>\n",
       "    <tr>\n",
       "      <th>4</th>\n",
       "      <td>10005</td>\n",
       "      <td>1989-09-12</td>\n",
       "      <td>2021-05-11</td>\n",
       "      <td>94692</td>\n",
       "      <td>11564</td>\n",
       "      <td>2</td>\n",
       "    </tr>\n",
       "  </tbody>\n",
       "</table>\n",
       "</div>"
      ],
      "text/plain": [
       "   emp_no   hire_date MAX_to_date  MAX_salary  tenure  title_count\n",
       "0   10001  1986-06-26  2021-05-11       88958   12738            1\n",
       "1   10002  1985-11-21  2021-05-11       72527   12955            1\n",
       "2   10003  1986-08-28  2021-05-11       43699   12675            1\n",
       "3   10004  1986-12-01  2021-05-11       74057   12580            2\n",
       "4   10005  1989-09-12  2021-05-11       94692   11564            2"
      ]
     },
     "execution_count": 27,
     "metadata": {},
     "output_type": "execute_result"
    }
   ],
   "source": [
    "# good it worked\n",
    "dfe.head()"
   ]
  },
  {
   "cell_type": "code",
   "execution_count": 36,
   "metadata": {},
   "outputs": [],
   "source": [
    "h = dfe['tenure']\n",
    "m = dfe['title_count']"
   ]
  },
  {
   "cell_type": "code",
   "execution_count": 44,
   "metadata": {},
   "outputs": [
    {
     "data": {
      "text/plain": [
       "<BarContainer object of 300024 artists>"
      ]
     },
     "execution_count": 44,
     "metadata": {},
     "output_type": "execute_result"
    },
    {
     "data": {
      "image/png": "[encoded data removed]",
      "text/plain": [
       "<Figure size 432x288 with 1 Axes>"
      ]
     },
     "metadata": {
      "needs_background": "light"
     },
     "output_type": "display_data"
    }
   ],
   "source": [
    "plt.bar(h,m)"
   ]
  },
  {
   "cell_type": "code",
   "execution_count": 46,
   "metadata": {},
   "outputs": [
    {
     "data": {
      "text/plain": [
       "(0.3516521189952112, 0.0)"
      ]
     },
     "execution_count": 46,
     "metadata": {},
     "output_type": "execute_result"
    }
   ],
   "source": [
    "# looks like there is some sort of correlation between the tenure and the number of titles someon has held.\n",
    "# except for again, that weird gap between 6000 and 8000 \n",
    "# oh you know what the gap probably is? it's probably because we did the current date as TODAY\n",
    "# and there's a gap in start dates. the people on the left must have a to_date in the dataset \n",
    "# and the people on the right must be the people who are \"current employees\"\n",
    "corr, p = stats.pearsonr(h, m)\n",
    "corr, p "
   ]
  },
  {
   "cell_type": "code",
   "execution_count": 47,
   "metadata": {},
   "outputs": [
    {
     "data": {
      "text/html": [
       "<div>\n",
       "<style scoped>\n",
       "    .dataframe tbody tr th:only-of-type {\n",
       "        vertical-align: middle;\n",
       "    }\n",
       "\n",
       "    .dataframe tbody tr th {\n",
       "        vertical-align: top;\n",
       "    }\n",
       "\n",
       "    .dataframe thead th {\n",
       "        text-align: right;\n",
       "    }\n",
       "</style>\n",
       "<table border=\"1\" class=\"dataframe\">\n",
       "  <thead>\n",
       "    <tr style=\"text-align: right;\">\n",
       "      <th></th>\n",
       "      <th>emp_no</th>\n",
       "      <th>hire_date</th>\n",
       "      <th>MAX_to_date</th>\n",
       "      <th>MAX_salary</th>\n",
       "      <th>tenure</th>\n",
       "      <th>title_count</th>\n",
       "    </tr>\n",
       "  </thead>\n",
       "  <tbody>\n",
       "    <tr>\n",
       "      <th>0</th>\n",
       "      <td>10001</td>\n",
       "      <td>1986-06-26</td>\n",
       "      <td>2021-05-11</td>\n",
       "      <td>88958</td>\n",
       "      <td>12738</td>\n",
       "      <td>1</td>\n",
       "    </tr>\n",
       "    <tr>\n",
       "      <th>1</th>\n",
       "      <td>10002</td>\n",
       "      <td>1985-11-21</td>\n",
       "      <td>2021-05-11</td>\n",
       "      <td>72527</td>\n",
       "      <td>12955</td>\n",
       "      <td>1</td>\n",
       "    </tr>\n",
       "    <tr>\n",
       "      <th>2</th>\n",
       "      <td>10003</td>\n",
       "      <td>1986-08-28</td>\n",
       "      <td>2021-05-11</td>\n",
       "      <td>43699</td>\n",
       "      <td>12675</td>\n",
       "      <td>1</td>\n",
       "    </tr>\n",
       "    <tr>\n",
       "      <th>3</th>\n",
       "      <td>10004</td>\n",
       "      <td>1986-12-01</td>\n",
       "      <td>2021-05-11</td>\n",
       "      <td>74057</td>\n",
       "      <td>12580</td>\n",
       "      <td>2</td>\n",
       "    </tr>\n",
       "    <tr>\n",
       "      <th>4</th>\n",
       "      <td>10005</td>\n",
       "      <td>1989-09-12</td>\n",
       "      <td>2021-05-11</td>\n",
       "      <td>94692</td>\n",
       "      <td>11564</td>\n",
       "      <td>2</td>\n",
       "    </tr>\n",
       "    <tr>\n",
       "      <th>5</th>\n",
       "      <td>10006</td>\n",
       "      <td>1989-06-02</td>\n",
       "      <td>2021-05-11</td>\n",
       "      <td>60098</td>\n",
       "      <td>11666</td>\n",
       "      <td>1</td>\n",
       "    </tr>\n",
       "    <tr>\n",
       "      <th>6</th>\n",
       "      <td>10007</td>\n",
       "      <td>1989-02-10</td>\n",
       "      <td>2021-05-11</td>\n",
       "      <td>88070</td>\n",
       "      <td>11778</td>\n",
       "      <td>2</td>\n",
       "    </tr>\n",
       "    <tr>\n",
       "      <th>7</th>\n",
       "      <td>10008</td>\n",
       "      <td>1994-09-15</td>\n",
       "      <td>2000-07-31</td>\n",
       "      <td>52668</td>\n",
       "      <td>2146</td>\n",
       "      <td>1</td>\n",
       "    </tr>\n",
       "    <tr>\n",
       "      <th>8</th>\n",
       "      <td>10009</td>\n",
       "      <td>1985-02-18</td>\n",
       "      <td>2021-05-11</td>\n",
       "      <td>94443</td>\n",
       "      <td>13231</td>\n",
       "      <td>3</td>\n",
       "    </tr>\n",
       "    <tr>\n",
       "      <th>9</th>\n",
       "      <td>10010</td>\n",
       "      <td>1989-08-24</td>\n",
       "      <td>2021-05-11</td>\n",
       "      <td>80324</td>\n",
       "      <td>11583</td>\n",
       "      <td>1</td>\n",
       "    </tr>\n",
       "    <tr>\n",
       "      <th>10</th>\n",
       "      <td>10011</td>\n",
       "      <td>1990-01-22</td>\n",
       "      <td>1996-11-09</td>\n",
       "      <td>56753</td>\n",
       "      <td>2483</td>\n",
       "      <td>1</td>\n",
       "    </tr>\n",
       "    <tr>\n",
       "      <th>11</th>\n",
       "      <td>10012</td>\n",
       "      <td>1992-12-18</td>\n",
       "      <td>2021-05-11</td>\n",
       "      <td>54794</td>\n",
       "      <td>10371</td>\n",
       "      <td>2</td>\n",
       "    </tr>\n",
       "    <tr>\n",
       "      <th>12</th>\n",
       "      <td>10013</td>\n",
       "      <td>1985-10-20</td>\n",
       "      <td>2021-05-11</td>\n",
       "      <td>68901</td>\n",
       "      <td>12987</td>\n",
       "      <td>1</td>\n",
       "    </tr>\n",
       "    <tr>\n",
       "      <th>13</th>\n",
       "      <td>10014</td>\n",
       "      <td>1987-03-11</td>\n",
       "      <td>2021-05-11</td>\n",
       "      <td>60598</td>\n",
       "      <td>12480</td>\n",
       "      <td>1</td>\n",
       "    </tr>\n",
       "    <tr>\n",
       "      <th>14</th>\n",
       "      <td>10015</td>\n",
       "      <td>1987-07-02</td>\n",
       "      <td>1993-08-22</td>\n",
       "      <td>40000</td>\n",
       "      <td>2243</td>\n",
       "      <td>1</td>\n",
       "    </tr>\n",
       "    <tr>\n",
       "      <th>15</th>\n",
       "      <td>10016</td>\n",
       "      <td>1995-01-27</td>\n",
       "      <td>2021-05-11</td>\n",
       "      <td>77935</td>\n",
       "      <td>9601</td>\n",
       "      <td>1</td>\n",
       "    </tr>\n",
       "    <tr>\n",
       "      <th>16</th>\n",
       "      <td>10017</td>\n",
       "      <td>1993-08-03</td>\n",
       "      <td>2021-05-11</td>\n",
       "      <td>99651</td>\n",
       "      <td>10143</td>\n",
       "      <td>2</td>\n",
       "    </tr>\n",
       "    <tr>\n",
       "      <th>17</th>\n",
       "      <td>10018</td>\n",
       "      <td>1987-04-03</td>\n",
       "      <td>2021-05-11</td>\n",
       "      <td>84672</td>\n",
       "      <td>12457</td>\n",
       "      <td>2</td>\n",
       "    </tr>\n",
       "    <tr>\n",
       "      <th>18</th>\n",
       "      <td>10019</td>\n",
       "      <td>1999-04-30</td>\n",
       "      <td>2021-05-11</td>\n",
       "      <td>50032</td>\n",
       "      <td>8047</td>\n",
       "      <td>1</td>\n",
       "    </tr>\n",
       "    <tr>\n",
       "      <th>19</th>\n",
       "      <td>10020</td>\n",
       "      <td>1991-01-26</td>\n",
       "      <td>2021-05-11</td>\n",
       "      <td>47017</td>\n",
       "      <td>11063</td>\n",
       "      <td>1</td>\n",
       "    </tr>\n",
       "  </tbody>\n",
       "</table>\n",
       "</div>"
      ],
      "text/plain": [
       "    emp_no   hire_date MAX_to_date  MAX_salary  tenure  title_count\n",
       "0    10001  1986-06-26  2021-05-11       88958   12738            1\n",
       "1    10002  1985-11-21  2021-05-11       72527   12955            1\n",
       "2    10003  1986-08-28  2021-05-11       43699   12675            1\n",
       "3    10004  1986-12-01  2021-05-11       74057   12580            2\n",
       "4    10005  1989-09-12  2021-05-11       94692   11564            2\n",
       "5    10006  1989-06-02  2021-05-11       60098   11666            1\n",
       "6    10007  1989-02-10  2021-05-11       88070   11778            2\n",
       "7    10008  1994-09-15  2000-07-31       52668    2146            1\n",
       "8    10009  1985-02-18  2021-05-11       94443   13231            3\n",
       "9    10010  1989-08-24  2021-05-11       80324   11583            1\n",
       "10   10011  1990-01-22  1996-11-09       56753    2483            1\n",
       "11   10012  1992-12-18  2021-05-11       54794   10371            2\n",
       "12   10013  1985-10-20  2021-05-11       68901   12987            1\n",
       "13   10014  1987-03-11  2021-05-11       60598   12480            1\n",
       "14   10015  1987-07-02  1993-08-22       40000    2243            1\n",
       "15   10016  1995-01-27  2021-05-11       77935    9601            1\n",
       "16   10017  1993-08-03  2021-05-11       99651   10143            2\n",
       "17   10018  1987-04-03  2021-05-11       84672   12457            2\n",
       "18   10019  1999-04-30  2021-05-11       50032    8047            1\n",
       "19   10020  1991-01-26  2021-05-11       47017   11063            1"
      ]
     },
     "execution_count": 47,
     "metadata": {},
     "output_type": "execute_result"
    }
   ],
   "source": [
    "dfe.head(20)"
   ]
  },
  {
   "cell_type": "markdown",
   "metadata": {},
   "source": [
    "### Exercise 3 \n",
    "Use the sleepstudy data. \n",
    "- Is there a relationship between days and reaction time?"
   ]
  },
  {
   "cell_type": "code",
   "execution_count": 11,
   "metadata": {},
   "outputs": [],
   "source": [
    "sleep_df = data('sleepstudy')"
   ]
  },
  {
   "cell_type": "code",
   "execution_count": 13,
   "metadata": {},
   "outputs": [],
   "source": [
    "reaction = sleep_df.Reaction\n",
    "days = sleep_df.Days"
   ]
  },
  {
   "cell_type": "code",
   "execution_count": 17,
   "metadata": {},
   "outputs": [
    {
     "data": {
      "text/plain": [
       "<matplotlib.collections.PathCollection at 0x7f9349353130>"
      ]
     },
     "execution_count": 17,
     "metadata": {},
     "output_type": "execute_result"
    },
    {
     "data": {
      "image/png": "[encoded data removed]",
      "text/plain": [
       "<Figure size 432x288 with 1 Axes>"
      ]
     },
     "metadata": {
      "needs_background": "light"
     },
     "output_type": "display_data"
    }
   ],
   "source": [
    "plt.scatter(days, reaction)"
   ]
  },
  {
   "cell_type": "code",
   "execution_count": 18,
   "metadata": {},
   "outputs": [
    {
     "data": {
      "text/plain": [
       "(0.5352302262650253, 9.894096322214812e-15)"
      ]
     },
     "execution_count": 18,
     "metadata": {},
     "output_type": "execute_result"
    }
   ],
   "source": [
    "sleep_c, sleep_p = stats.pearsonr(days, reaction)\n",
    "sleep_c, sleep_p"
   ]
  },
  {
   "cell_type": "code",
   "execution_count": null,
   "metadata": {},
   "outputs": [],
   "source": [
    "# there is a positive correlation between days and reaction time (reaction time goes up as number of days goes up.)"
   ]
  },
  {
   "cell_type": "markdown",
   "metadata": {},
   "source": [
    "<hr style=\"border-top: 10px groove cyan; margin-top: 1px; margin-bottom: 1px\"></hr>"
   ]
  },
  {
   "cell_type": "markdown",
   "metadata": {},
   "source": [
    "# Chi Squared Exercises"
   ]
  },
  {
   "cell_type": "markdown",
   "metadata": {},
   "source": [
    "### Exercise 1\n",
    "Use the following contingency table to help answer the question of whether using a macbook and being a codeup student are independent of each other.\n",
    "\n",
    "|                         | Codeup Student|Not a Codeup Student|\n",
    "| :-------------          | :----------: | -----------: |\n",
    "|  Uses Macbook           |    49        |     20       |\n",
    "| Doesn't use a Macbook   |    1         |     30      |"
   ]
  },
  {
   "cell_type": "code",
   "execution_count": 89,
   "metadata": {},
   "outputs": [
    {
     "data": {
      "text/plain": [
       "{'Codeup Student': [49, 1], 'Not A Codeup Student': [20, 30]}"
      ]
     },
     "execution_count": 89,
     "metadata": {},
     "output_type": "execute_result"
    }
   ],
   "source": [
    "# Create Table to work with \n",
    "# create dictionary with the info for the columns\n",
    "table = {'Codeup Student':[49, 1],\n",
    "        'Not A Codeup Student':[20, 30]}\n",
    "table"
   ]
  },
  {
   "cell_type": "code",
   "execution_count": 90,
   "metadata": {},
   "outputs": [],
   "source": [
    "# assign to variable and convert to DataFrame\n",
    "# use index names uses macbook and doesn't use a macbook \n",
    "macbook = pd.DataFrame(table, index = ['Uses Macbook', 'Doesn\\'t use a Macbook'])"
   ]
  },
  {
   "cell_type": "code",
   "execution_count": 83,
   "metadata": {},
   "outputs": [],
   "source": [
    "chi2, p, degf, expected = stats.chi2_contingency(macbook)"
   ]
  },
  {
   "cell_type": "code",
   "execution_count": 85,
   "metadata": {},
   "outputs": [
    {
     "name": "stdout",
     "output_type": "stream",
     "text": [
      "Observed\n",
      "\n",
      "[[49 20]\n",
      " [ 1 30]]\n",
      "---\n",
      "Expected\n",
      "\n",
      "[[34 34]\n",
      " [15 15]]\n",
      "---\n",
      "\n",
      "chi^2 = 36.6526\n",
      "p     = 0.0000\n"
     ]
    }
   ],
   "source": [
    "print('Observed\\n')\n",
    "print(macbook.values)\n",
    "print('---\\nExpected\\n')\n",
    "print(expected.astype(int))\n",
    "print('---\\n')\n",
    "print(f'chi^2 = {chi2:.4f}')\n",
    "print(f'p     = {p:.4f}')"
   ]
  },
  {
   "cell_type": "markdown",
   "metadata": {},
   "source": [
    "### Exercise 2\n",
    "Choose another 2 categorical variables from the mpg dataset and perform a ${chi^2}$\n",
    " contingency table test with them. Be sure to state your null and alternative hypotheses.\n"
   ]
  },
  {
   "cell_type": "code",
   "execution_count": null,
   "metadata": {},
   "outputs": [],
   "source": [
    "# df = data('mpg') \n",
    "df # is already assigned to mpg from earlier uncomment above if you need to re import"
   ]
  },
  {
   "cell_type": "code",
   "execution_count": 94,
   "metadata": {},
   "outputs": [
    {
     "name": "stdout",
     "output_type": "stream",
     "text": [
      "<class 'pandas.core.frame.DataFrame'>\n",
      "Int64Index: 234 entries, 1 to 234\n",
      "Data columns (total 12 columns):\n",
      " #   Column           Non-Null Count  Dtype  \n",
      "---  ------           --------------  -----  \n",
      " 0   manufacturer     234 non-null    object \n",
      " 1   model            234 non-null    object \n",
      " 2   displ            234 non-null    float64\n",
      " 3   year             234 non-null    int64  \n",
      " 4   cyl              234 non-null    int64  \n",
      " 5   trans            234 non-null    object \n",
      " 6   drv              234 non-null    object \n",
      " 7   cty              234 non-null    int64  \n",
      " 8   hwy              234 non-null    int64  \n",
      " 9   fl               234 non-null    object \n",
      " 10  class            234 non-null    object \n",
      " 11  fuel_efficiency  234 non-null    float64\n",
      "dtypes: float64(2), int64(4), object(6)\n",
      "memory usage: 23.8+ KB\n"
     ]
    }
   ],
   "source": [
    "df.info()"
   ]
  },
  {
   "cell_type": "code",
   "execution_count": 101,
   "metadata": {},
   "outputs": [],
   "source": [
    "# clean up transmission column by removing the () stuff at the end\n",
    "df['trans'] = df.trans.str[:-4] "
   ]
  },
  {
   "cell_type": "code",
   "execution_count": 102,
   "metadata": {},
   "outputs": [
    {
     "data": {
      "text/plain": [
       "auto      157\n",
       "manual     77\n",
       "Name: trans, dtype: int64"
      ]
     },
     "execution_count": 102,
     "metadata": {},
     "output_type": "execute_result"
    }
   ],
   "source": [
    "df['trans'].value_counts()"
   ]
  },
  {
   "cell_type": "code",
   "execution_count": 104,
   "metadata": {},
   "outputs": [
    {
     "data": {
      "text/plain": [
       "suv           62\n",
       "compact       47\n",
       "midsize       41\n",
       "subcompact    35\n",
       "pickup        33\n",
       "minivan       11\n",
       "2seater        5\n",
       "Name: class, dtype: int64"
      ]
     },
     "execution_count": 104,
     "metadata": {},
     "output_type": "execute_result"
    }
   ],
   "source": [
    "df['class'].value_counts()"
   ]
  },
  {
   "cell_type": "markdown",
   "metadata": {},
   "source": [
    "${H_0}$: Class of vehicle and transmission of vehicle are independent from one another\n",
    "\n",
    "${H_a}$: Class and Transmission of vehicle are NOT independent from one another"
   ]
  },
  {
   "cell_type": "code",
   "execution_count": 107,
   "metadata": {},
   "outputs": [
    {
     "data": {
      "text/html": [
       "<div>\n",
       "<style scoped>\n",
       "    .dataframe tbody tr th:only-of-type {\n",
       "        vertical-align: middle;\n",
       "    }\n",
       "\n",
       "    .dataframe tbody tr th {\n",
       "        vertical-align: top;\n",
       "    }\n",
       "\n",
       "    .dataframe thead th {\n",
       "        text-align: right;\n",
       "    }\n",
       "</style>\n",
       "<table border=\"1\" class=\"dataframe\">\n",
       "  <thead>\n",
       "    <tr style=\"text-align: right;\">\n",
       "      <th>trans</th>\n",
       "      <th>auto</th>\n",
       "      <th>manual</th>\n",
       "    </tr>\n",
       "    <tr>\n",
       "      <th>class</th>\n",
       "      <th></th>\n",
       "      <th></th>\n",
       "    </tr>\n",
       "  </thead>\n",
       "  <tbody>\n",
       "    <tr>\n",
       "      <th>2seater</th>\n",
       "      <td>2</td>\n",
       "      <td>3</td>\n",
       "    </tr>\n",
       "    <tr>\n",
       "      <th>compact</th>\n",
       "      <td>24</td>\n",
       "      <td>23</td>\n",
       "    </tr>\n",
       "    <tr>\n",
       "      <th>midsize</th>\n",
       "      <td>29</td>\n",
       "      <td>12</td>\n",
       "    </tr>\n",
       "    <tr>\n",
       "      <th>minivan</th>\n",
       "      <td>11</td>\n",
       "      <td>0</td>\n",
       "    </tr>\n",
       "    <tr>\n",
       "      <th>pickup</th>\n",
       "      <td>20</td>\n",
       "      <td>13</td>\n",
       "    </tr>\n",
       "    <tr>\n",
       "      <th>subcompact</th>\n",
       "      <td>16</td>\n",
       "      <td>19</td>\n",
       "    </tr>\n",
       "    <tr>\n",
       "      <th>suv</th>\n",
       "      <td>55</td>\n",
       "      <td>7</td>\n",
       "    </tr>\n",
       "  </tbody>\n",
       "</table>\n",
       "</div>"
      ],
      "text/plain": [
       "trans       auto  manual\n",
       "class                   \n",
       "2seater        2       3\n",
       "compact       24      23\n",
       "midsize       29      12\n",
       "minivan       11       0\n",
       "pickup        20      13\n",
       "subcompact    16      19\n",
       "suv           55       7"
      ]
     },
     "execution_count": 107,
     "metadata": {},
     "output_type": "execute_result"
    }
   ],
   "source": [
    "observed = pd.crosstab(df['class'], df['trans'])\n",
    "observed"
   ]
  },
  {
   "cell_type": "code",
   "execution_count": 108,
   "metadata": {},
   "outputs": [],
   "source": [
    "chi2, p, degf, expected = stats.chi2_contingency(observed)"
   ]
  },
  {
   "cell_type": "code",
   "execution_count": 109,
   "metadata": {},
   "outputs": [
    {
     "name": "stdout",
     "output_type": "stream",
     "text": [
      "Observed\n",
      "\n",
      "[[ 2  3]\n",
      " [24 23]\n",
      " [29 12]\n",
      " [11  0]\n",
      " [20 13]\n",
      " [16 19]\n",
      " [55  7]]\n",
      "---\n",
      "Expected\n",
      "\n",
      "[[ 3  1]\n",
      " [31 15]\n",
      " [27 13]\n",
      " [ 7  3]\n",
      " [22 10]\n",
      " [23 11]\n",
      " [41 20]]\n",
      "---\n",
      "\n",
      "chi^2 = 33.7700\n",
      "p     = 0.0000\n"
     ]
    }
   ],
   "source": [
    "print('Observed\\n')\n",
    "print(observed.values)\n",
    "print('---\\nExpected\\n')\n",
    "print(expected.astype(int))\n",
    "print('---\\n')\n",
    "print(f'chi^2 = {chi2:.4f}')\n",
    "print(f'p     = {p:.4f}')"
   ]
  },
  {
   "cell_type": "markdown",
   "metadata": {},
   "source": [
    "#### Conclusion\n",
    "\n",
    "P value is 0.0 so we can reject our null hypothesis (that vehicle class and transmission are independent).\n",
    "\n",
    "-----"
   ]
  },
  {
   "cell_type": "markdown",
   "metadata": {},
   "source": [
    "### Exercise 3\n",
    "Use the data from the employees database to answer these questions:\n",
    "\n",
    "Is an employee's gender independent of whether an employee works in sales or marketing? (only look at current employees)\n",
    "\n",
    "Is an employee's gender independent of whether or not they are or have been a manager?"
   ]
  },
  {
   "cell_type": "code",
   "execution_count": null,
   "metadata": {},
   "outputs": [],
   "source": [
    "# need info from employees\n",
    "# what info?\n",
    "# current employees\n",
    "# departments \n",
    "# ----------\n",
    "# all managers\n",
    "# gender\n"
   ]
  },
  {
   "cell_type": "code",
   "execution_count": 111,
   "metadata": {},
   "outputs": [],
   "source": [
    "from env import host, user, password\n",
    "db_name = 'employees'\n",
    "url = get_db_url(user, host, password, db_name)"
   ]
  },
  {
   "cell_type": "code",
   "execution_count": 124,
   "metadata": {},
   "outputs": [],
   "source": [
    "# read sql query into data frame named ms_df (for marketing sales)\n",
    "\n",
    "ms_df = pd.read_sql(\"\"\"\n",
    "SELECT emp_no, dept_name, gender \n",
    "FROM `dept_emp`\n",
    "JOIN departments USING (dept_no)\n",
    "JOIN employees USING(emp_no)\n",
    "WHERE (dept_emp.to_date LIKE '9999%') AND (dept_name = 'Sales' OR dept_name = 'Marketing');\n",
    "\"\"\", url)"
   ]
  },
  {
   "cell_type": "code",
   "execution_count": 125,
   "metadata": {},
   "outputs": [
    {
     "data": {
      "text/html": [
       "<div>\n",
       "<style scoped>\n",
       "    .dataframe tbody tr th:only-of-type {\n",
       "        vertical-align: middle;\n",
       "    }\n",
       "\n",
       "    .dataframe tbody tr th {\n",
       "        vertical-align: top;\n",
       "    }\n",
       "\n",
       "    .dataframe thead th {\n",
       "        text-align: right;\n",
       "    }\n",
       "</style>\n",
       "<table border=\"1\" class=\"dataframe\">\n",
       "  <thead>\n",
       "    <tr style=\"text-align: right;\">\n",
       "      <th></th>\n",
       "      <th>emp_no</th>\n",
       "      <th>dept_name</th>\n",
       "      <th>gender</th>\n",
       "    </tr>\n",
       "  </thead>\n",
       "  <tbody>\n",
       "    <tr>\n",
       "      <th>0</th>\n",
       "      <td>10017</td>\n",
       "      <td>Marketing</td>\n",
       "      <td>F</td>\n",
       "    </tr>\n",
       "    <tr>\n",
       "      <th>1</th>\n",
       "      <td>10058</td>\n",
       "      <td>Marketing</td>\n",
       "      <td>M</td>\n",
       "    </tr>\n",
       "    <tr>\n",
       "      <th>2</th>\n",
       "      <td>10140</td>\n",
       "      <td>Marketing</td>\n",
       "      <td>F</td>\n",
       "    </tr>\n",
       "    <tr>\n",
       "      <th>3</th>\n",
       "      <td>10228</td>\n",
       "      <td>Marketing</td>\n",
       "      <td>F</td>\n",
       "    </tr>\n",
       "    <tr>\n",
       "      <th>4</th>\n",
       "      <td>10239</td>\n",
       "      <td>Marketing</td>\n",
       "      <td>F</td>\n",
       "    </tr>\n",
       "  </tbody>\n",
       "</table>\n",
       "</div>"
      ],
      "text/plain": [
       "   emp_no  dept_name gender\n",
       "0   10017  Marketing      F\n",
       "1   10058  Marketing      M\n",
       "2   10140  Marketing      F\n",
       "3   10228  Marketing      F\n",
       "4   10239  Marketing      F"
      ]
     },
     "execution_count": 125,
     "metadata": {},
     "output_type": "execute_result"
    }
   ],
   "source": [
    "# this df from the query outputs emp_no, departments only marketing and sales, and gender\n",
    "# filtered here are only current employees\n",
    "ms_df.head()"
   ]
  },
  {
   "cell_type": "code",
   "execution_count": 126,
   "metadata": {},
   "outputs": [
    {
     "data": {
      "text/html": [
       "<div>\n",
       "<style scoped>\n",
       "    .dataframe tbody tr th:only-of-type {\n",
       "        vertical-align: middle;\n",
       "    }\n",
       "\n",
       "    .dataframe tbody tr th {\n",
       "        vertical-align: top;\n",
       "    }\n",
       "\n",
       "    .dataframe thead th {\n",
       "        text-align: right;\n",
       "    }\n",
       "</style>\n",
       "<table border=\"1\" class=\"dataframe\">\n",
       "  <thead>\n",
       "    <tr style=\"text-align: right;\">\n",
       "      <th>dept_name</th>\n",
       "      <th>Marketing</th>\n",
       "      <th>Sales</th>\n",
       "    </tr>\n",
       "    <tr>\n",
       "      <th>gender</th>\n",
       "      <th></th>\n",
       "      <th></th>\n",
       "    </tr>\n",
       "  </thead>\n",
       "  <tbody>\n",
       "    <tr>\n",
       "      <th>F</th>\n",
       "      <td>5864</td>\n",
       "      <td>14999</td>\n",
       "    </tr>\n",
       "    <tr>\n",
       "      <th>M</th>\n",
       "      <td>8978</td>\n",
       "      <td>22702</td>\n",
       "    </tr>\n",
       "  </tbody>\n",
       "</table>\n",
       "</div>"
      ],
      "text/plain": [
       "dept_name  Marketing  Sales\n",
       "gender                     \n",
       "F               5864  14999\n",
       "M               8978  22702"
      ]
     },
     "execution_count": 126,
     "metadata": {},
     "output_type": "execute_result"
    }
   ],
   "source": [
    "# create crosstab of marketing count and gender count, and assign to variable observed\n",
    "\n",
    "observed = pd.crosstab(ms_df.gender, ms_df.dept_name)\n",
    "observed"
   ]
  },
  {
   "cell_type": "markdown",
   "metadata": {},
   "source": [
    "${H_0}$: gender and department (marketing and sales) are independent from each other\n",
    "\n",
    "${H_a}$: gender and department (marketing and sales) are NOT independent (aka they're dependent)\n",
    "\n",
    "alpha = 0.05"
   ]
  },
  {
   "cell_type": "code",
   "execution_count": 128,
   "metadata": {},
   "outputs": [],
   "source": [
    "# use chi^2 test to see if these two variables are independent\n",
    "chi2, p, degf, expected = stats.chi2_contingency(observed)"
   ]
  },
  {
   "cell_type": "code",
   "execution_count": 129,
   "metadata": {},
   "outputs": [
    {
     "name": "stdout",
     "output_type": "stream",
     "text": [
      "Observed\n",
      "\n",
      "[[ 5864 14999]\n",
      " [ 8978 22702]]\n",
      "---\n",
      "Expected\n",
      "\n",
      "[[ 5893 14969]\n",
      " [ 8948 22731]]\n",
      "---\n",
      "\n",
      "chi^2 = 0.3240\n",
      "p     = 0.5692\n"
     ]
    }
   ],
   "source": [
    "print('Observed\\n')\n",
    "print(observed.values)\n",
    "print('---\\nExpected\\n')\n",
    "print(expected.astype(int))\n",
    "print('---\\n')\n",
    "print(f'chi^2 = {chi2:.4f}')\n",
    "print(f'p     = {p:.4f}')"
   ]
  },
  {
   "cell_type": "markdown",
   "metadata": {},
   "source": [
    "#### Conclusion:\n",
    "\n",
    "p value is high (0.57), cannot reject null hypothesis, that gender and department (marketing and sales) are independent from each other"
   ]
  },
  {
   "cell_type": "markdown",
   "metadata": {},
   "source": [
    "----\n",
    "${H_0}$: gender and whether or not someone has been a manager are independent from each other\n",
    "\n",
    "${H_a}$: gender and whether or not someone has been a manager are NOT independent (aka they're dependent)\n",
    "\n",
    "alpha = 0.05"
   ]
  },
  {
   "cell_type": "code",
   "execution_count": null,
   "metadata": {},
   "outputs": [],
   "source": [
    "# Is an employee's gender independent of whether or not they are or have been a manager?\n",
    "# crosstab: manager, not manager, M, F "
   ]
  },
  {
   "cell_type": "code",
   "execution_count": 130,
   "metadata": {},
   "outputs": [],
   "source": [
    "# read sql query into df named mgr_df\n",
    "mgr_df = pd.read_sql(\n",
    "    \"\"\"\n",
    "    SELECT CASE\n",
    "\t\tWHEN emp_no IN (SELECT emp_no FROM dept_manager)\n",
    "\t\t\tTHEN 'True'\n",
    "\t\tELSE 'False'\n",
    "\tEND AS 'is_manager',\n",
    "\temp_no, gender\n",
    "FROM employees;\n",
    "    \"\"\", url)"
   ]
  },
  {
   "cell_type": "code",
   "execution_count": 132,
   "metadata": {},
   "outputs": [
    {
     "data": {
      "text/html": [
       "<div>\n",
       "<style scoped>\n",
       "    .dataframe tbody tr th:only-of-type {\n",
       "        vertical-align: middle;\n",
       "    }\n",
       "\n",
       "    .dataframe tbody tr th {\n",
       "        vertical-align: top;\n",
       "    }\n",
       "\n",
       "    .dataframe thead th {\n",
       "        text-align: right;\n",
       "    }\n",
       "</style>\n",
       "<table border=\"1\" class=\"dataframe\">\n",
       "  <thead>\n",
       "    <tr style=\"text-align: right;\">\n",
       "      <th></th>\n",
       "      <th>is_manager</th>\n",
       "      <th>emp_no</th>\n",
       "      <th>gender</th>\n",
       "    </tr>\n",
       "  </thead>\n",
       "  <tbody>\n",
       "    <tr>\n",
       "      <th>0</th>\n",
       "      <td>False</td>\n",
       "      <td>10001</td>\n",
       "      <td>M</td>\n",
       "    </tr>\n",
       "    <tr>\n",
       "      <th>1</th>\n",
       "      <td>False</td>\n",
       "      <td>10002</td>\n",
       "      <td>F</td>\n",
       "    </tr>\n",
       "    <tr>\n",
       "      <th>2</th>\n",
       "      <td>False</td>\n",
       "      <td>10003</td>\n",
       "      <td>M</td>\n",
       "    </tr>\n",
       "    <tr>\n",
       "      <th>3</th>\n",
       "      <td>False</td>\n",
       "      <td>10004</td>\n",
       "      <td>M</td>\n",
       "    </tr>\n",
       "    <tr>\n",
       "      <th>4</th>\n",
       "      <td>False</td>\n",
       "      <td>10005</td>\n",
       "      <td>M</td>\n",
       "    </tr>\n",
       "  </tbody>\n",
       "</table>\n",
       "</div>"
      ],
      "text/plain": [
       "  is_manager  emp_no gender\n",
       "0      False   10001      M\n",
       "1      False   10002      F\n",
       "2      False   10003      M\n",
       "3      False   10004      M\n",
       "4      False   10005      M"
      ]
     },
     "execution_count": 132,
     "metadata": {},
     "output_type": "execute_result"
    }
   ],
   "source": [
    "# dataframe contains is_manager column (whether or not the person is a manager), their emp no, and their gender\n",
    "mgr_df.head()"
   ]
  },
  {
   "cell_type": "code",
   "execution_count": 134,
   "metadata": {},
   "outputs": [
    {
     "data": {
      "text/plain": [
       "False    300000\n",
       "True         24\n",
       "Name: is_manager, dtype: int64"
      ]
     },
     "execution_count": 134,
     "metadata": {},
     "output_type": "execute_result"
    }
   ],
   "source": [
    "mgr_df['is_manager'].value_counts()"
   ]
  },
  {
   "cell_type": "code",
   "execution_count": 137,
   "metadata": {},
   "outputs": [
    {
     "data": {
      "text/html": [
       "<div>\n",
       "<style scoped>\n",
       "    .dataframe tbody tr th:only-of-type {\n",
       "        vertical-align: middle;\n",
       "    }\n",
       "\n",
       "    .dataframe tbody tr th {\n",
       "        vertical-align: top;\n",
       "    }\n",
       "\n",
       "    .dataframe thead th {\n",
       "        text-align: right;\n",
       "    }\n",
       "</style>\n",
       "<table border=\"1\" class=\"dataframe\">\n",
       "  <thead>\n",
       "    <tr style=\"text-align: right;\">\n",
       "      <th>is_manager</th>\n",
       "      <th>False</th>\n",
       "      <th>True</th>\n",
       "    </tr>\n",
       "    <tr>\n",
       "      <th>gender</th>\n",
       "      <th></th>\n",
       "      <th></th>\n",
       "    </tr>\n",
       "  </thead>\n",
       "  <tbody>\n",
       "    <tr>\n",
       "      <th>F</th>\n",
       "      <td>120038</td>\n",
       "      <td>13</td>\n",
       "    </tr>\n",
       "    <tr>\n",
       "      <th>M</th>\n",
       "      <td>179962</td>\n",
       "      <td>11</td>\n",
       "    </tr>\n",
       "  </tbody>\n",
       "</table>\n",
       "</div>"
      ],
      "text/plain": [
       "is_manager   False  True\n",
       "gender                  \n",
       "F           120038    13\n",
       "M           179962    11"
      ]
     },
     "execution_count": 137,
     "metadata": {},
     "output_type": "execute_result"
    }
   ],
   "source": [
    "observed = pd.crosstab(mgr_df.gender, mgr_df.is_manager)\n",
    "observed"
   ]
  },
  {
   "cell_type": "code",
   "execution_count": 139,
   "metadata": {},
   "outputs": [],
   "source": [
    "chi2, p, degf, expected = stats.chi2_contingency(observed)"
   ]
  },
  {
   "cell_type": "code",
   "execution_count": 140,
   "metadata": {},
   "outputs": [
    {
     "name": "stdout",
     "output_type": "stream",
     "text": [
      "Observed\n",
      "\n",
      "[[120038     13]\n",
      " [179962     11]]\n",
      "---\n",
      "Expected\n",
      "\n",
      "[[120041      9]\n",
      " [179958     14]]\n",
      "---\n",
      "\n",
      "chi^2 = 1.4567\n",
      "p     = 0.2275\n"
     ]
    }
   ],
   "source": [
    "print('Observed\\n')\n",
    "print(observed.values)\n",
    "print('---\\nExpected\\n')\n",
    "print(expected.astype(int))\n",
    "print('---\\n')\n",
    "print(f'chi^2 = {chi2:.4f}')\n",
    "print(f'p     = {p:.4f}')"
   ]
  },
  {
   "cell_type": "markdown",
   "metadata": {},
   "source": [
    "#### Conclusion\n",
    "The p value is higher than the alpha so we cannot reject the null hypothesis that gender and whether or not someone has been a manager are independent from each other."
   ]
  },
  {
   "cell_type": "code",
   "execution_count": null,
   "metadata": {},
   "outputs": [],
   "source": []
  }
 ],
 "metadata": {
  "kernelspec": {
   "display_name": "Python 3",
   "language": "python",
   "name": "python3"
  },
  "language_info": {
   "codemirror_mode": {
    "name": "ipython",
    "version": 3
   },
   "file_extension": ".py",
   "mimetype": "text/x-python",
   "name": "python",
   "nbconvert_exporter": "python",
   "pygments_lexer": "ipython3",
   "version": "3.8.5"
  }
 },
 "nbformat": 4,
 "nbformat_minor": 4
}
